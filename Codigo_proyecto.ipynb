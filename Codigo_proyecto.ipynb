{
 "cells": [
  {
   "cell_type": "markdown",
   "id": "464409b6",
   "metadata": {},
   "source": [
    "# BIBLIOTECAS\n"
   ]
  },
  {
   "cell_type": "code",
   "execution_count": null,
   "id": "5fca659f",
   "metadata": {},
   "outputs": [],
   "source": [
    "%pip install scipy==1.15.2 spacy==3.8.4 nltk==3.9.1 scikit-learn==1.6.1 pandas==2.2.3 matplotlib==3.7.1"
   ]
  },
  {
   "cell_type": "code",
   "execution_count": null,
   "id": "e479c571",
   "metadata": {},
   "outputs": [],
   "source": [
    "%pip install gensim==4.3.3 scipy==1.11.4 transformers hf_xet tensorflow nlpaug"
   ]
  },
  {
   "cell_type": "code",
   "execution_count": null,
   "id": "d6884593",
   "metadata": {},
   "outputs": [],
   "source": [
    "%pip install torch torchvision torchaudio --index-url https://download.pytorch.org/whl/cu118"
   ]
  },
  {
   "cell_type": "markdown",
   "id": "bebcfb40",
   "metadata": {},
   "source": [
    "<span style=\"color: red; font-weight:bold\">IMPORTANTE:</span> Reiniciar el kernel y seguir ejecutando a partir de aquí (no volver a instalar las librerias de las cendas anteriores) \n"
   ]
  },
  {
   "cell_type": "code",
   "execution_count": null,
   "id": "5e9b6f0a",
   "metadata": {},
   "outputs": [
    {
     "name": "stdout",
     "output_type": "stream",
     "text": [
      "WARNING:tensorflow:From c:\\Users\\fuenl\\AppData\\Local\\Programs\\Python\\Python312\\Lib\\site-packages\\tf_keras\\src\\losses.py:2976: The name tf.losses.sparse_softmax_cross_entropy is deprecated. Please use tf.compat.v1.losses.sparse_softmax_cross_entropy instead.\n",
      "\n"
     ]
    }
   ],
   "source": [
    "import sys\n",
    "import scipy\n",
    "import spacy as sp\n",
    "import nltk\n",
    "import pandas as pd\n",
    "import string\n",
    "import numpy as np\n",
    "import scipy.linalg as linalg\n",
    "import nlpaug.augmenter.word as naw\n",
    "from nltk import pos_tag, word_tokenize\n",
    "\n",
    "from nltk.corpus import stopwords\n",
    "from sklearn.feature_extraction.text import CountVectorizer, TfidfVectorizer\n",
    "import re\n",
    "import matplotlib.pyplot as plt\n",
    "from tensorflow.keras.utils import pad_sequences\n",
    "import gensim.downloader as api\n",
    "from gensim.models import Word2Vec, FastText\n",
    "from sklearn.ensemble import RandomForestClassifier\n",
    "from sklearn.model_selection import train_test_split\n",
    "from sklearn.metrics import classification_report, accuracy_score, confusion_matrix\n",
    "from transformers import BertTokenizer, BertModel\n",
    "import torch\n",
    "from tensorflow.keras.regularizers import l2\n",
    "from sklearn.naive_bayes import GaussianNB\n",
    "from sklearn.linear_model import LogisticRegression\n",
    "from sklearn.svm import SVC\n",
    "from sklearn.preprocessing import StandardScaler\n",
    "from sklearn.pipeline import Pipeline\n",
    "from sklearn.model_selection import train_test_split\n",
    "from tensorflow.keras.models import Sequential\n",
    "from tensorflow.keras.layers import Dense, Dropout, Embedding, LSTM, Bidirectional, Conv1D, Flatten, MaxPooling1D, SimpleRNN, SpatialDropout1D, BatchNormalization\n",
    "from tensorflow.keras.optimizers import Adam\n",
    "from tensorflow.keras.callbacks import EarlyStopping\n",
    "from transformers import AutoTokenizer, AutoModelForSequenceClassification\n",
    "from datasets import Dataset, DatasetDict\n",
    "from transformers import TrainingArguments\n",
    "from sklearn.metrics import accuracy_score, precision_recall_fscore_support\n",
    "from transformers import Trainer"
   ]
  },
  {
   "cell_type": "code",
   "execution_count": null,
   "id": "9e578f8e",
   "metadata": {},
   "outputs": [],
   "source": [
    "nltk.download('punkt')       # Tokenizador\n",
    "nltk.download('punkt_tab')\n",
    "nltk.download('wordnet')     # Lemmatización\n",
    "nltk.download('stopwords')   # Lista de palabras vacías (stopwords)\n",
    "nltk.download('averaged_perceptron_tagger')  # Etiquetado gramatical\n",
    "nltk.download('omw-1.4')     # WordNet para varios idiomas"
   ]
  },
  {
   "cell_type": "code",
   "execution_count": null,
   "id": "6c1c9eca",
   "metadata": {},
   "outputs": [],
   "source": [
    "!python -m spacy download es_core_news_sm"
   ]
  },
  {
   "cell_type": "markdown",
   "id": "c64677f9",
   "metadata": {},
   "source": [
    "# PREPROCESAMIENTO"
   ]
  },
  {
   "cell_type": "code",
   "execution_count": 8,
   "id": "1df56f35",
   "metadata": {},
   "outputs": [],
   "source": [
    "input_file_train = r\"C:\\Users\\fuenl\\OneDrive - Universidad Rey Juan Carlos\\Inteligencia Artificial\\Tercero\\Segundo Cuatrimestre\\Procesamiento del Lenguaje Natural\\Practica_Final\\PracticaPLN\\datasets\\train.csv\"\n",
    "df_train = pd.read_csv(input_file_train)\n",
    "\n",
    "# Se debe cambiar por el directorio donde se encuentra el archivo deseado en ambos casos\n",
    "\n",
    "input_file_development = r\"C:\\Users\\fuenl\\OneDrive - Universidad Rey Juan Carlos\\Inteligencia Artificial\\Tercero\\Segundo Cuatrimestre\\Procesamiento del Lenguaje Natural\\Practica_Final\\PracticaPLN\\datasets\\development.csv\"\n",
    "df_dev = pd.read_csv(input_file_development)"
   ]
  },
  {
   "cell_type": "code",
   "execution_count": null,
   "id": "9ff1c06f",
   "metadata": {},
   "outputs": [],
   "source": [
    "df_train.head()"
   ]
  },
  {
   "cell_type": "code",
   "execution_count": 11,
   "id": "c707c5c1",
   "metadata": {},
   "outputs": [],
   "source": [
    "ideology_map = {\n",
    "    'left': 0,\n",
    "    'moderate_left': 1,\n",
    "    'moderate_right': 2,\n",
    "    'right': 3\n",
    "}\n",
    "\n",
    "df_train['ideology_encoded'] = df_train['ideology_multiclass'].map(ideology_map)\n",
    "df_dev['ideology_encoded'] = df_dev['ideology_multiclass'].map(ideology_map)"
   ]
  },
  {
   "cell_type": "markdown",
   "id": "d17c07ad",
   "metadata": {},
   "source": [
    "## Estudio del dataset"
   ]
  },
  {
   "cell_type": "code",
   "execution_count": null,
   "id": "68186e44",
   "metadata": {},
   "outputs": [
    {
     "data": {
      "text/plain": [
       "['id',\n",
       " 'label',\n",
       " 'gender',\n",
       " 'profession',\n",
       " 'ideology_binary',\n",
       " 'ideology_multiclass',\n",
       " 'tweet',\n",
       " 'ideology_encoded']"
      ]
     },
     "metadata": {},
     "output_type": "display_data"
    }
   ],
   "source": [
    "list(df_train.columns)"
   ]
  },
  {
   "cell_type": "code",
   "execution_count": null,
   "id": "033562ce",
   "metadata": {},
   "outputs": [
    {
     "data": {
      "text/plain": [
       "id                     28065\n",
       "label                    313\n",
       "gender                     2\n",
       "profession                 2\n",
       "ideology_binary            2\n",
       "ideology_multiclass        4\n",
       "tweet                  28065\n",
       "ideology_encoded           4\n",
       "dtype: int64"
      ]
     },
     "metadata": {},
     "output_type": "display_data"
    }
   ],
   "source": [
    "df_train.nunique()"
   ]
  },
  {
   "cell_type": "code",
   "execution_count": null,
   "id": "f1fce91b",
   "metadata": {},
   "outputs": [
    {
     "data": {
      "text/html": [
       "<div>\n",
       "<style scoped>\n",
       "    .dataframe tbody tr th:only-of-type {\n",
       "        vertical-align: middle;\n",
       "    }\n",
       "\n",
       "    .dataframe tbody tr th {\n",
       "        vertical-align: top;\n",
       "    }\n",
       "\n",
       "    .dataframe thead th {\n",
       "        text-align: right;\n",
       "    }\n",
       "</style>\n",
       "<table border=\"1\" class=\"dataframe\">\n",
       "  <thead>\n",
       "    <tr style=\"text-align: right;\">\n",
       "      <th></th>\n",
       "      <th>id</th>\n",
       "      <th>label</th>\n",
       "      <th>gender</th>\n",
       "      <th>profession</th>\n",
       "      <th>ideology_binary</th>\n",
       "      <th>ideology_multiclass</th>\n",
       "      <th>tweet</th>\n",
       "      <th>ideology_encoded</th>\n",
       "    </tr>\n",
       "  </thead>\n",
       "  <tbody>\n",
       "    <tr>\n",
       "      <th>0</th>\n",
       "      <td>37732</td>\n",
       "      <td>@user239</td>\n",
       "      <td>female</td>\n",
       "      <td>politician</td>\n",
       "      <td>right</td>\n",
       "      <td>moderate_right</td>\n",
       "      <td>@user, propuestas de futuro 💪#no tocar las ref...</td>\n",
       "      <td>2</td>\n",
       "    </tr>\n",
       "    <tr>\n",
       "      <th>1</th>\n",
       "      <td>38447</td>\n",
       "      <td>@user13</td>\n",
       "      <td>female</td>\n",
       "      <td>journalist</td>\n",
       "      <td>left</td>\n",
       "      <td>left</td>\n",
       "      <td>@user @user Podemos entrar en bucle hasta el i...</td>\n",
       "      <td>0</td>\n",
       "    </tr>\n",
       "    <tr>\n",
       "      <th>2</th>\n",
       "      <td>10758</td>\n",
       "      <td>@user8</td>\n",
       "      <td>female</td>\n",
       "      <td>politician</td>\n",
       "      <td>left</td>\n",
       "      <td>moderate_left</td>\n",
       "      <td>👉🏻Como gallega me produce profunda decepción v...</td>\n",
       "      <td>1</td>\n",
       "    </tr>\n",
       "    <tr>\n",
       "      <th>3</th>\n",
       "      <td>33860</td>\n",
       "      <td>@user262</td>\n",
       "      <td>male</td>\n",
       "      <td>politician</td>\n",
       "      <td>right</td>\n",
       "      <td>right</td>\n",
       "      <td>Y ahora, tras este raro de amable discusión so...</td>\n",
       "      <td>3</td>\n",
       "    </tr>\n",
       "    <tr>\n",
       "      <th>4</th>\n",
       "      <td>11677</td>\n",
       "      <td>@user341</td>\n",
       "      <td>female</td>\n",
       "      <td>politician</td>\n",
       "      <td>right</td>\n",
       "      <td>right</td>\n",
       "      <td>1-No se trata de defender o no la labor de @us...</td>\n",
       "      <td>3</td>\n",
       "    </tr>\n",
       "  </tbody>\n",
       "</table>\n",
       "</div>"
      ],
      "text/plain": [
       "      id     label  gender  profession ideology_binary ideology_multiclass  \\\n",
       "0  37732  @user239  female  politician           right      moderate_right   \n",
       "1  38447   @user13  female  journalist            left                left   \n",
       "2  10758    @user8  female  politician            left       moderate_left   \n",
       "3  33860  @user262    male  politician           right               right   \n",
       "4  11677  @user341  female  politician           right               right   \n",
       "\n",
       "                                               tweet  ideology_encoded  \n",
       "0  @user, propuestas de futuro 💪#no tocar las ref...                 2  \n",
       "1  @user @user Podemos entrar en bucle hasta el i...                 0  \n",
       "2  👉🏻Como gallega me produce profunda decepción v...                 1  \n",
       "3  Y ahora, tras este raro de amable discusión so...                 3  \n",
       "4  1-No se trata de defender o no la labor de @us...                 3  "
      ]
     },
     "metadata": {},
     "output_type": "display_data"
    }
   ],
   "source": [
    "df_train.head(5)"
   ]
  },
  {
   "cell_type": "markdown",
   "id": "314fc304",
   "metadata": {},
   "source": [
    "Tweets"
   ]
  },
  {
   "cell_type": "code",
   "execution_count": null,
   "id": "d6753aad",
   "metadata": {},
   "outputs": [
    {
     "data": {
      "image/png": "[encoded data removed]",
      "text/plain": [
       "<Figure size 1000x800 with 3 Axes>"
      ]
     },
     "metadata": {},
     "output_type": "display_data"
    }
   ],
   "source": [
    "\n",
    "fig = plt.figure(figsize=(10, 8))\n",
    "gs = fig.add_gridspec(2, 2, height_ratios=[1, 1])\n",
    "\n",
    "# profession \n",
    "ax1 = fig.add_subplot(gs[0, 0])\n",
    "df_train['profession'].value_counts().plot(kind='barh', ax=ax1, color='orange')\n",
    "ax1.set_title('Profession Counts')\n",
    "ax1.grid(axis='x', linestyle='--', alpha=0.5)\n",
    "\n",
    "# ideology_multiclass\n",
    "ax2 = fig.add_subplot(gs[0, 1])\n",
    "df_train['ideology_multiclass'].value_counts().plot(kind='barh', ax=ax2, color='orange')\n",
    "ax2.set_title('Ideology Multiclass Counts')\n",
    "ax2.grid(axis='x', linestyle='--', alpha=0.5)\n",
    "\n",
    "# gender \n",
    "ax3 = fig.add_subplot(gs[1, :])\n",
    "df_train['gender'].value_counts().plot(kind='pie', ax=ax3, autopct='%1.1f%%', startangle=90, colors=['#66b3ff', '#ff9999'])\n",
    "ax3.set_title('Distribucion de tuits por género')\n",
    "plt.tight_layout()\n",
    "plt.show()"
   ]
  },
  {
   "cell_type": "markdown",
   "id": "ea936dde",
   "metadata": {},
   "source": [
    "Usuarios únicos"
   ]
  },
  {
   "cell_type": "code",
   "execution_count": null,
   "id": "b62d8d4c",
   "metadata": {},
   "outputs": [
    {
     "data": {
      "image/png": "[encoded data removed]",
      "text/plain": [
       "<Figure size 1000x800 with 3 Axes>"
      ]
     },
     "metadata": {},
     "output_type": "display_data"
    }
   ],
   "source": [
    "\n",
    "\n",
    "fig = plt.figure(figsize=(10, 8))\n",
    "gs = fig.add_gridspec(2, 2, height_ratios=[1, 1])\n",
    "\n",
    "# 1) Colapsar a un usuario único (un registro por 'label')\n",
    "unique_users = df_train.drop_duplicates(subset='label')\n",
    "\n",
    "# 2) Profesión (usuarios únicos)\n",
    "ax1 = fig.add_subplot(gs[0, 0])\n",
    "unique_users['profession'].value_counts().plot(kind='barh', ax=ax1, color='orange')\n",
    "ax1.set_title('Profession Counts (usuarios únicos)')\n",
    "ax1.grid(axis='x', linestyle='--', alpha=0.5)\n",
    "\n",
    "# 3) Ideología multiclass (usuarios únicos)\n",
    "ax2 = fig.add_subplot(gs[0, 1])\n",
    "unique_users['ideology_multiclass'].value_counts().plot(kind='barh', ax=ax2, color='orange')\n",
    "ax2.set_title('Ideology Multiclass Counts (usuarios únicos)')\n",
    "ax2.grid(axis='x', linestyle='--', alpha=0.5)\n",
    "\n",
    "# 4) Género de usuarios únicos (pie chart)\n",
    "ax3 = fig.add_subplot(gs[1, :])\n",
    "unique_users['gender'].value_counts().plot( kind='pie', ax=ax3, autopct='%1.1f%%', startangle=90, colors=['#66b3ff', '#ff9999']  # azul para 'male', rosa para 'female'\n",
    ")\n",
    "ax3.set_ylabel('')\n",
    "ax3.set_title('Distribución de usuarios únicos por género')\n",
    "\n",
    "plt.tight_layout()\n",
    "plt.show()"
   ]
  },
  {
   "cell_type": "code",
   "execution_count": null,
   "id": "705b0845",
   "metadata": {},
   "outputs": [
    {
     "name": "stdout",
     "output_type": "stream",
     "text": [
      "Número de usuarios únicos: 313\n"
     ]
    }
   ],
   "source": [
    "print(f\"Número de usuarios únicos: {df_train['label'].nunique()}\")"
   ]
  },
  {
   "cell_type": "code",
   "execution_count": null,
   "id": "c8fc454a",
   "metadata": {},
   "outputs": [
    {
     "data": {
      "image/png": "[encoded data removed]",
      "text/plain": [
       "<Figure size 1600x600 with 2 Axes>"
      ]
     },
     "metadata": {},
     "output_type": "display_data"
    }
   ],
   "source": [
    "\n",
    "\n",
    "# Cálculo de las tablas cruzadas\n",
    "ct_gender = pd.crosstab(df_train['gender'], df_train['ideology_multiclass'], normalize='index')\n",
    "ct_prof = pd.crosstab(df_train['profession'], df_train['ideology_multiclass'])\n",
    "ct_prof_norm = ct_prof.div(ct_prof.sum(1), axis=0)\n",
    "\n",
    "# Paleta de colores agrupada\n",
    "palette = {\n",
    "    'left': '#1f77b4',\n",
    "    'moderate_left': '#6baed6',\n",
    "    'moderate_right': '#fdae6b',\n",
    "    'right': '#e6550d'\n",
    "}\n",
    "\n",
    "# Aseguramos el mismo orden de categorías en ambos\n",
    "cats = ct_gender.columns.tolist()\n",
    "colors = [palette[c] for c in cats]\n",
    "\n",
    "# Creamos la figura con dos subplots lado a lado\n",
    "fig, axes = plt.subplots(1, 2, figsize=(16, 6))\n",
    "\n",
    "# 1) Género vs ideología (barras verticales apiladas)\n",
    "ct_gender.plot(kind='bar',  stacked=True, color=colors, ax=axes[0], legend=False)\n",
    "axes[0].set_title('Distribución de ideología por género')\n",
    "axes[0].set_ylabel('Proporción')\n",
    "axes[0].set_xlabel('Género')\n",
    "\n",
    "# 2) Profesión vs ideología (también vertical apilado)\n",
    "ct_prof_norm.plot(kind='bar', stacked=True, color=colors, ax=axes[1])\n",
    "axes[1].set_title('Distribución de ideología por profesión')\n",
    "axes[1].set_ylabel('Proporción')\n",
    "axes[1].set_xlabel('Profesión')\n",
    "axes[1].legend(title='Ideología', bbox_to_anchor=(1.05,1), loc='upper left')\n",
    "\n",
    "plt.tight_layout()\n",
    "plt.show()\n"
   ]
  },
  {
   "cell_type": "code",
   "execution_count": null,
   "id": "cb68ffd2",
   "metadata": {},
   "outputs": [
    {
     "data": {
      "image/png": "[encoded data removed]",
      "text/plain": [
       "<Figure size 800x500 with 1 Axes>"
      ]
     },
     "metadata": {},
     "output_type": "display_data"
    }
   ],
   "source": [
    "df_train['tweet'].str.split().map(lambda x: len(x)).hist(color='orange', figsize=(8, 5))\n",
    "plt.xlabel('Longitud del tweet')\n",
    "plt.ylabel('Frecuencia')\n",
    "plt.title('Distribución de longitud de tweets')\n",
    "plt.show()"
   ]
  },
  {
   "cell_type": "markdown",
   "id": "75f8d380",
   "metadata": {},
   "source": [
    "## Clase Preprocesamiento"
   ]
  },
  {
   "cell_type": "code",
   "execution_count": 16,
   "id": "8ec0f4e1",
   "metadata": {},
   "outputs": [],
   "source": [
    "class TweetProcessor:\n",
    "    def __init__(self,\n",
    "                 model=\"es_core_news_sm\",\n",
    "                 disable_components=(\"parser\", \"ner\"),\n",
    "                 remove_stop=True,\n",
    "                 remove_punct=True,\n",
    "                 remove_space=True,\n",
    "                 remove_emojis=True,\n",
    "                 remove_mentions=True):\n",
    "        # Carga de spaCy\n",
    "        self.nlp = sp.load(model, disable=list(disable_components))\n",
    "\n",
    "        # Configuraciones de filtrado\n",
    "        self.remove_stop = remove_stop\n",
    "        self.remove_punct = remove_punct\n",
    "        self.remove_space = remove_space\n",
    "        self.remove_emojis = remove_emojis\n",
    "        self.remove_mentions = remove_mentions\n",
    "\n",
    "        # Patrón para detectar emojis\n",
    "        self.emoji_pattern = re.compile(\n",
    "            \"[\" \n",
    "            u\"\\U0001F600-\\U0001F64F\"\n",
    "            u\"\\U0001F300-\\U0001F5FF\"\n",
    "            u\"\\U0001F680-\\U0001F6FF\"\n",
    "            u\"\\U0001F1E0-\\U0001F1FF\"\n",
    "            u\"\\U00002700-\\U000027BF\"\n",
    "            u\"\\U000024C2-\\U0001F251\"\n",
    "            \"]+\",\n",
    "            flags=re.UNICODE\n",
    "        )\n",
    "\n",
    "        # Espacios para almacenar resultados\n",
    "        self._tweets_tokenized = {}\n",
    "        self._tweets_pos_tags = {}\n",
    "\n",
    "\n",
    "    def _should_keep(self, token):\n",
    "        \"\"\"Decide si un token pasa todos los filtros.\"\"\"\n",
    "        if self.remove_stop and token.is_stop:\n",
    "            return False\n",
    "        if self.remove_punct and token.is_punct:\n",
    "            return False\n",
    "        if self.remove_space and token.is_space:\n",
    "            return False\n",
    "        if self.remove_mentions and token.text.startswith('@'):\n",
    "            return False\n",
    "        if self.remove_emojis and self.emoji_pattern.fullmatch(token.text):\n",
    "            return False\n",
    "        return True\n",
    "\n",
    "\n",
    "    def process(self, df):\n",
    "        \"\"\"\n",
    "        Procesa un DataFrame con columnas 'id' y 'tweet'.\n",
    "        Rellena self._tweets_tokenized y self._tweets_pos_tags.\n",
    "        \"\"\"\n",
    "        for tw_id, text in zip(df['id'], df['tweet'].str.lower()):\n",
    "            doc = self.nlp(text)\n",
    "            filtered = [token for token in doc if self._should_keep(token)]\n",
    "            \n",
    "            # Guardamos la versión lematizada\n",
    "            lemmas = [token.lemma_ for token in filtered]\n",
    "            self._tweets_tokenized[tw_id] = \" \".join(lemmas)\n",
    "            # Guardamos (lema, POS)\n",
    "            self._tweets_pos_tags[tw_id] = [(token.lemma_, token.pos_) for token in filtered]\n",
    "        return self\n",
    " \n",
    "        \n",
    "    def filter_by_pos(self, pos_to_erase):\n",
    "        \"\"\"\n",
    "        Devuelve un nuevo diccionario tokenizado, eliminando las POS indicadas.\n",
    "        \n",
    "        pos_to_erase: iterable de etiquetas POS (p. ej. ['NOUN','ADJ'])\n",
    "        \"\"\"\n",
    "        to_erase = set(pos_to_erase)\n",
    "        filtered = {}\n",
    "        for tw_id, text in self._tweets_tokenized.items():\n",
    "            pos_list = self._tweets_pos_tags.get(tw_id, [])\n",
    "            lemmas = [lemma for lemma, pos in pos_list if pos not in to_erase]\n",
    "            filtered[tw_id] = \" \".join(lemmas)\n",
    "        return filtered\n",
    "\n",
    "\n",
    "    # —— Vocabulario —— #\n",
    "\n",
    "    def build_vocab(self, text, vocab_size=1000):\n",
    "        vocab = {}\n",
    "        index = 1\n",
    "        \n",
    "        if len(text) == 0:\n",
    "            raise ValueError(\"No hay tweets procesados. Asegúrate de llamar a process() primero.\")\n",
    "        else:\n",
    "            for tw in text:\n",
    "                for token in tw.split():\n",
    "                    if index < vocab_size and token not in vocab:\n",
    "                        vocab[token] = index\n",
    "                        index += 1\n",
    "                    elif index >= vocab_size:\n",
    "                        break\n",
    "        return vocab\n",
    "    \n",
    "\n",
    "    def text_encoder(self, text, vocab, max_len=100):\n",
    "        encoded_text = []\n",
    "        \n",
    "        for tw in text:\n",
    "            encoded_tweet = []\n",
    "            for token in tw.split():\n",
    "                if token in vocab:\n",
    "                    encoded_tweet.append(vocab[token])\n",
    "                else:\n",
    "                    encoded_tweet.append(0)\n",
    "            encoded_text.append(encoded_tweet)\n",
    "\n",
    "        encoded_text = pad_sequences(encoded_text, maxlen=max_len, padding='post', truncating='post')\n",
    "        \n",
    "        return encoded_text\n",
    "\n",
    "    # —— getters —— #\n",
    "    def get_tokenized_tweets(self):\n",
    "        \"\"\"Devuelve el dict {tweet_id: lemas_concatenados}.\"\"\"\n",
    "        return self._tweets_tokenized\n",
    "\n",
    "    def get_pos_tags(self):\n",
    "        \"\"\"Devuelve el dict {tweet_id: [(lemma, POS), ...]}.\"\"\"\n",
    "        return self._tweets_pos_tags\n",
    "    \n",
    "    \n",
    "    \n",
    "    "
   ]
  },
  {
   "cell_type": "code",
   "execution_count": null,
   "id": "cadb386b",
   "metadata": {},
   "outputs": [],
   "source": [
    "processor = TweetProcessor(remove_emojis=True, remove_mentions=True)\n",
    "processor.process(df_train)\n",
    "\n",
    "processor_dev = TweetProcessor(remove_emojis=True, remove_mentions=True)\n",
    "processor_dev.process(df_dev)\n"
   ]
  },
  {
   "cell_type": "code",
   "execution_count": 18,
   "id": "25e8f7c1",
   "metadata": {},
   "outputs": [],
   "source": [
    "# Obtener el dict de lemas\n",
    "tokenized = processor.get_tokenized_tweets()\n",
    "tokenized_dev = processor_dev.get_tokenized_tweets()\n",
    "\n",
    "# Obtener el dict de POS-tags\n",
    "#pos_tags = processor.get_pos_tags()\n",
    "\n",
    "# Filtrar sustantivos y adjetivos\n",
    "#sin_noun_adj = processor.filter_by_pos(['NOUN', 'ADJ'])"
   ]
  },
  {
   "cell_type": "markdown",
   "id": "70f3f13c",
   "metadata": {},
   "source": [
    "# Representaciones BoW, TF-IDF..."
   ]
  },
  {
   "cell_type": "code",
   "execution_count": 15,
   "id": "66d561da",
   "metadata": {},
   "outputs": [],
   "source": [
    "def vectorizado_BOW_binario(corpus):\n",
    "    vectorizerBOW = CountVectorizer(binary=True)\n",
    "    solucion = vectorizerBOW.fit_transform(corpus)\n",
    "    return vectorizerBOW.get_feature_names_out(), solucion.toarray()\n",
    "\n",
    "def vectorizado_BOW(corpus):\n",
    "    vectorizerBOW = CountVectorizer()\n",
    "    solucion = vectorizerBOW.fit_transform(corpus)\n",
    "    return vectorizerBOW.get_feature_names_out(), solucion.toarray()\n",
    "\n",
    "def vectorizado_TFIDF(corpus):\n",
    "    vectorizerTfidf = TfidfVectorizer()\n",
    "    solucion = vectorizerTfidf.fit_transform(corpus)\n",
    "    return vectorizerTfidf.get_feature_names_out(), solucion.toarray()"
   ]
  },
  {
   "cell_type": "code",
   "execution_count": 10,
   "id": "1fe6ca90",
   "metadata": {},
   "outputs": [
    {
     "name": "stdout",
     "output_type": "stream",
     "text": [
      "['00' '000' '0000' ... '𝟬𝟬𝟬𝗠' '𝟭𝟭' '𝟮𝟳']\n",
      "17\n"
     ]
    }
   ],
   "source": [
    "words, bow = vectorizado_BOW(tokenized.values())\n",
    "print(words)\n",
    "print(bow.max())"
   ]
  },
  {
   "cell_type": "markdown",
   "id": "af5d4c9c",
   "metadata": {},
   "source": [
    "# EMBEDDINGS ESTÁTICOS\n",
    "\n"
   ]
  },
  {
   "cell_type": "code",
   "execution_count": null,
   "id": "ec37262a",
   "metadata": {},
   "outputs": [],
   "source": [
    "\n",
    "\n",
    "# Convertir el diccionario de tweets (tweets_tokenized) en una lista de frases tokenizadas\n",
    "\n",
    "tokenized_sentences = [tweet.split() for tweet in tokenized.values()]\n",
    "\n",
    "# Instanciar y cargar los diferentes modelos\n",
    "modelo_w2v = Word2Vec(tokenized_sentences, vector_size=100, window=5, min_count=2, workers=4)\n",
    "modelo_fasttext = FastText(tokenized_sentences, vector_size=100, window=5, min_count=2, workers=4)\n",
    "modelo_glove = api.load(\"glove-wiki-gigaword-300\")\n",
    "\n",
    "\n",
    "# Función que convierte cada lista de tokens o token en vectores dependiendo del modelo\n",
    "\n",
    "def tweet_to_vector(tokens, modelo, tipo='gensim'):\n",
    "    vectores = []\n",
    "\n",
    "    if tipo == 'gensim':\n",
    "        for word in tokens:\n",
    "            if word in modelo.wv:\n",
    "                vectores.append(modelo.wv[word])\n",
    "    elif tipo == 'glove':\n",
    "        for word in tokens:\n",
    "            if word in modelo:\n",
    "                vectores.append(modelo[word])\n",
    "    if vectores:\n",
    "        return np.mean(vectores, axis=0)\n",
    "    else:\n",
    "        return np.zeros(100)   \n",
    "\n",
    "\n",
    "vectores_w2v = {tw_id: tweet_to_vector(tweet.split(), modelo_w2v, tipo='gensim') for tw_id, tweet in tokenized.items()}\n",
    "vectores_fasttext = {tw_id: tweet_to_vector(tweet.split(), modelo_fasttext, tipo='gensim') for tw_id, tweet in tokenized.items()}\n",
    "vectores_glove = {tw_id: tweet_to_vector(tweet.split(), modelo_glove, tipo='glove') for tw_id, tweet in tokenized.items()}\n",
    "\n"
   ]
  },
  {
   "cell_type": "code",
   "execution_count": null,
   "id": "c36fd337",
   "metadata": {},
   "outputs": [
    {
     "name": "stdout",
     "output_type": "stream",
     "text": [
      "Accuracy: 0.2989488686976661\n",
      "Classification Report:\n",
      "               precision    recall  f1-score   support\n",
      "\n",
      "           0       0.23      0.15      0.18      1315\n",
      "           1       0.33      0.48      0.39      1885\n",
      "           2       0.29      0.35      0.32      1666\n",
      "           3       0.19      0.01      0.02       747\n",
      "\n",
      "    accuracy                           0.30      5613\n",
      "   macro avg       0.26      0.25      0.23      5613\n",
      "weighted avg       0.28      0.30      0.27      5613\n",
      "\n"
     ]
    }
   ],
   "source": [
    "\n",
    "\n",
    "# Asegurarse de que los vectores y las etiquetas tengan el mismo número de muestras\n",
    "common_ids = set(vectores_w2v.keys()).intersection(df_train['id'])\n",
    "filtered_vectores_w2v = {tw_id: vectores_w2v[tw_id] for tw_id in common_ids}\n",
    "\n",
    "# Convertir los vectores_w2v a una matriz de características y obtener las etiquetas\n",
    "X = np.array(list(filtered_vectores_w2v.values()))\n",
    "y = df_train[df_train['id'].isin(common_ids)]['ideology_encoded'].values\n",
    "\n",
    "# Dividir los datos en conjuntos de entrenamiento y prueba\n",
    "X_train, X_test, y_train, y_test = train_test_split(X, y, test_size=0.2, random_state=42)\n",
    "\n",
    "# Entrenar un clasificador Random Forest\n",
    "clf = RandomForestClassifier(random_state=42)\n",
    "clf.fit(X_train, y_train)\n",
    "\n",
    "# Predecir en el conjunto de prueba\n",
    "y_pred = clf.predict(X_test)\n",
    "\n",
    "# Evaluar el modelo\n",
    "print(\"Accuracy:\", accuracy_score(y_test, y_pred))\n",
    "print(\"Classification Report:\\n\", classification_report(y_test, y_pred))"
   ]
  },
  {
   "cell_type": "markdown",
   "id": "e3081bb7",
   "metadata": {},
   "source": [
    "# EMBEDDINGS CONTEXTUALES"
   ]
  },
  {
   "cell_type": "code",
   "execution_count": null,
   "id": "8c5cbbb2",
   "metadata": {},
   "outputs": [],
   "source": [
    "\n",
    "# Cargar el modelo y el tokenizador de BERT\n",
    "tokenizer = BertTokenizer.from_pretrained('bert-base-multilingual-cased')\n",
    "model = BertModel.from_pretrained('bert-base-multilingual-cased')\n",
    "\n",
    "# Función para obtener embeddings contextuales de un texto\n",
    "def obtener_embeddings_bert(texto, tokenizer, model):\n",
    "    inputs = tokenizer(texto, return_tensors=\"pt\", truncation=True, padding=True, max_length=128)\n",
    "    with torch.no_grad():\n",
    "        outputs = model(**inputs)\n",
    "    # Usamos la salida de la capa oculta (hidden states) como embeddings\n",
    "    embeddings = outputs.last_hidden_state.mean(dim=1).squeeze().numpy()\n",
    "    return embeddings\n",
    "\n",
    "# Generar embeddings para los tweets tokenizados\n",
    "vectores_bert = {tw_id: obtener_embeddings_bert(tweet, tokenizer, model) for tw_id, tweet in tokenized.items()}"
   ]
  },
  {
   "cell_type": "code",
   "execution_count": null,
   "id": "f75995c1",
   "metadata": {},
   "outputs": [
    {
     "name": "stdout",
     "output_type": "stream",
     "text": [
      "Accuracy: 0.3021557099590237\n",
      "Classification Report:\n",
      "               precision    recall  f1-score   support\n",
      "\n",
      "           0       0.25      0.10      0.15      1315\n",
      "           1       0.33      0.55      0.41      1885\n",
      "           2       0.28      0.31      0.29      1666\n",
      "           3       0.00      0.00      0.00       747\n",
      "\n",
      "    accuracy                           0.30      5613\n",
      "   macro avg       0.21      0.24      0.21      5613\n",
      "weighted avg       0.25      0.30      0.26      5613\n",
      "\n"
     ]
    }
   ],
   "source": [
    "\n",
    "\n",
    "# Asegurarse de que los vectores y las etiquetas tengan el mismo número de muestras\n",
    "common_ids = set(vectores_bert.keys()).intersection(df_train['id'])\n",
    "filtered_vectores_bert = {tw_id: vectores_bert[tw_id] for tw_id in common_ids}\n",
    "\n",
    "# Convertir los vectores_bert a una matriz de características y obtener las etiquetas\n",
    "X_bert = np.array(list(filtered_vectores_bert.values()))\n",
    "y_bert = df_train[df_train['id'].isin(common_ids)]['ideology_encoded'].values\n",
    "\n",
    "# Dividir los datos en conjuntos de entrenamiento y prueba\n",
    "X_train_bert, X_test_bert, y_train_bert, y_test_bert = train_test_split(X_bert, y_bert, test_size=0.2, random_state=42)\n",
    "\n",
    "# Entrenar un clasificador Random Forest\n",
    "clf_bert = RandomForestClassifier(random_state=42)\n",
    "clf_bert.fit(X_train_bert, y_train_bert)\n",
    "\n",
    "# Predecir en el conjunto de prueba\n",
    "y_pred_bert = clf_bert.predict(X_test_bert)\n",
    "\n",
    "# Evaluar el modelo\n",
    "print(\"Accuracy:\", accuracy_score(y_test_bert, y_pred_bert))\n",
    "print(\"Classification Report:\\n\", classification_report(y_test_bert, y_pred_bert))"
   ]
  },
  {
   "cell_type": "markdown",
   "id": "32db45ba",
   "metadata": {},
   "source": [
    "# Modelos de aprendizaje automático clásicos"
   ]
  },
  {
   "cell_type": "code",
   "execution_count": 37,
   "id": "5be1c976",
   "metadata": {},
   "outputs": [
    {
     "name": "stdout",
     "output_type": "stream",
     "text": [
      "--- Naive Bayes ---\n",
      "Accuracy: 0.27774808480313556\n",
      "              precision    recall  f1-score   support\n",
      "\n",
      "           0       0.25      0.25      0.25      1315\n",
      "           1       0.34      0.39      0.36      1885\n",
      "           2       0.29      0.24      0.26      1666\n",
      "           3       0.13      0.13      0.13       747\n",
      "\n",
      "    accuracy                           0.28      5613\n",
      "   macro avg       0.25      0.25      0.25      5613\n",
      "weighted avg       0.27      0.28      0.27      5613\n",
      "\n",
      "\n",
      "--- Logistic Regression ---\n",
      "Accuracy: 0.2866559771957955\n",
      "              precision    recall  f1-score   support\n",
      "\n",
      "           0       0.22      0.16      0.19      1315\n",
      "           1       0.32      0.44      0.37      1885\n",
      "           2       0.28      0.33      0.30      1666\n",
      "           3       0.14      0.02      0.04       747\n",
      "\n",
      "    accuracy                           0.29      5613\n",
      "   macro avg       0.24      0.24      0.22      5613\n",
      "weighted avg       0.26      0.29      0.26      5613\n",
      "\n",
      "\n",
      "--- SVM ---\n",
      "Accuracy: 0.3160520220915731\n",
      "              precision    recall  f1-score   support\n",
      "\n",
      "           0       0.23      0.03      0.06      1315\n",
      "           1       0.34      0.61      0.43      1885\n",
      "           2       0.29      0.35      0.32      1666\n",
      "           3       0.00      0.00      0.00       747\n",
      "\n",
      "    accuracy                           0.32      5613\n",
      "   macro avg       0.21      0.25      0.20      5613\n",
      "weighted avg       0.25      0.32      0.25      5613\n",
      "\n",
      "\n"
     ]
    }
   ],
   "source": [
    "X_train, X_test, y_train, y_test = train_test_split(X_bert, y_bert, test_size=0.2, random_state=42)\n",
    "\n",
    "# 2. Define los clasificadores en pipelines (con escalado donde convenga)\n",
    "models = {\n",
    "    \"Naive Bayes\": Pipeline([\n",
    "        (\"nb\", GaussianNB())\n",
    "    ]),\n",
    "    \"Logistic Regression\": Pipeline([\n",
    "        (\"scaler\", StandardScaler()),           # la Regresión Logístico se beneficia del escalado\n",
    "        (\"lr\", LogisticRegression(max_iter=1000, random_state=42))\n",
    "    ]),\n",
    "    \"SVM\": Pipeline([\n",
    "        (\"scaler\", StandardScaler()),           # el SVM requiere datos escalados\n",
    "        (\"svm\", SVC(kernel=\"rbf\", probability=True, random_state=42))\n",
    "    ]),\n",
    "}\n",
    "\n",
    "# 3. Entrena y evalúa cada modelo\n",
    "for name, pipe in models.items():\n",
    "    pipe.fit(X_train, y_train)\n",
    "    y_pred = pipe.predict(X_test)\n",
    "    print(f\"--- {name} ---\")\n",
    "    print(\"Accuracy:\", accuracy_score(y_test, y_pred))\n",
    "    print(classification_report(y_test, y_pred))\n",
    "    print()"
   ]
  },
  {
   "cell_type": "markdown",
   "id": "3d3b93e6",
   "metadata": {},
   "source": [
    "# MODELOS DE APRENDIZAJE PROFUNDO\n"
   ]
  },
  {
   "cell_type": "markdown",
   "id": "bfa4fb02",
   "metadata": {},
   "source": [
    "## Visualizacion de métricas\n"
   ]
  },
  {
   "cell_type": "code",
   "execution_count": 7,
   "id": "428ce3d0",
   "metadata": {},
   "outputs": [],
   "source": [
    "import matplotlib.pyplot as plt\n",
    "def grafics1(history):\n",
    "    history_dict = history.history\n",
    "    loss_values = history_dict['loss']\n",
    "    val_loss_values = history_dict['val_loss']\n",
    "    accuracy = history_dict['accuracy']\n",
    "    val_accuracy = history_dict['val_accuracy']\n",
    "\n",
    "    epochs = range(1, len(loss_values) + 1)\n",
    "    fig, ax = plt.subplots(1, 2, figsize=(14, 6))\n",
    "    #\n",
    "    # Curva accuracy vs Epochs\n",
    "    #\n",
    "    ax[0].plot(epochs, accuracy, 'b', label='Training accuracy')\n",
    "    ax[0].plot(epochs, val_accuracy, 'red', label='Validation accuracy')\n",
    "    ax[0].set_title('Training & Validation Accuracy', fontsize=16)\n",
    "    ax[0].set_xlabel('Epochs', fontsize=16)\n",
    "    ax[0].set_ylabel('Accuracy', fontsize=16)\n",
    "    ax[0].legend()\n",
    "    #\n",
    "    # Curva loss vs Epochs\n",
    "    #\n",
    "    ax[1].plot(epochs, loss_values, 'b', label='Training loss')\n",
    "    ax[1].plot(epochs, val_loss_values, 'red', label='Validation loss')\n",
    "    ax[1].set_title('Training & Validation Loss', fontsize=16)\n",
    "    ax[1].set_xlabel('Epochs', fontsize=16)\n",
    "    ax[1].set_ylabel('Loss', fontsize=16)\n",
    "    ax[1].legend()"
   ]
  },
  {
   "cell_type": "code",
   "execution_count": 8,
   "id": "79391dc8",
   "metadata": {},
   "outputs": [],
   "source": [
    "def plot_metrics(model, x_test, y_test):\n",
    "    \n",
    "    #  Evaluación rápida con model.evaluate\n",
    "    loss, acc = model.evaluate(x_test, y_test, verbose=0)\n",
    "    print(f\"Test loss: {loss:.4f}\")\n",
    "    print(f\"Test accuracy: {acc:.4f}\")\n",
    "\n",
    "    #  Predicciones y métricas detalladas\n",
    "\n",
    "    #  Obtener probabilidades y clases predichas\n",
    "    y_pred_probs   = model.predict(x_test, verbose=0)    # shape (n_samples, n_classes)\n",
    "    y_pred_classes = np.argmax(y_pred_probs, axis=1)            # shape (n_samples,)\n",
    "\n",
    "    #  Accuracy\n",
    "    acc_manual = accuracy_score(y_test, y_pred_classes)\n",
    "    print(f\"\\nAccuracy (sklearn): {acc_manual:.4f}\")\n",
    "\n",
    "    # Classification report\n",
    "    print(\"\\nClassification Report:\")\n",
    "    print(classification_report(\n",
    "        y_true=y_test,\n",
    "        y_pred=y_pred_classes,\n",
    "        digits=4\n",
    "    ))\n",
    "\n",
    "    #  Matriz de confusión\n",
    "    cm = confusion_matrix(y_test, y_pred_classes)\n",
    "\n",
    "\n",
    "    fig, ax = plt.subplots(figsize=(6, 6))\n",
    "    im = ax.imshow(cm)  # usa el colormap por defecto\n",
    "    ax.set_title('Matriz de Confusión')\n",
    "    ax.set_xlabel('Etiqueta Predicha')\n",
    "    ax.set_ylabel('Etiqueta Verdadera')\n",
    "\n",
    "    # Poner las marcas de los ejes\n",
    "    ax.set_xticks(range(cm.shape[1]))\n",
    "    ax.set_yticks(range(cm.shape[0]))\n",
    "\n",
    "    # Anotar cada casilla con su valor\n",
    "    for (i, j), val in np.ndenumerate(cm):\n",
    "        ax.text(j, i, val, ha='center', va='center')\n",
    "\n",
    "    fig.tight_layout()\n",
    "    plt.show()"
   ]
  },
  {
   "cell_type": "markdown",
   "id": "54fe714b",
   "metadata": {},
   "source": [
    "## CNN\n"
   ]
  },
  {
   "cell_type": "markdown",
   "id": "4e8bce42",
   "metadata": {},
   "source": [
    "##### CNN Simple \n",
    "\n",
    "Capas:\n",
    "- Embedding ()\n",
    "- Conv1D (128 filtros, kernel_size=5, activación ReLU)\n",
    "- MaxPooling1D (pool_size=2)\n",
    "- Flatten\n",
    "- Dense (128 neuronas, activación ReLU) para añadir no linealidad\n",
    "- Dropout (0.5) para evitar sobreajuste (aunque no funciona muy bien...)\n",
    "- Dense (4 neuronas, activación softmax) para clasificar en 4 clases"
   ]
  },
  {
   "cell_type": "code",
   "execution_count": 19,
   "id": "17e0af8d",
   "metadata": {},
   "outputs": [
    {
     "name": "stdout",
     "output_type": "stream",
     "text": [
      "count    28065.000000\n",
      "mean       137.364939\n",
      "std         41.389121\n",
      "min          0.000000\n",
      "25%        118.000000\n",
      "50%        146.000000\n",
      "75%        165.000000\n",
      "max        369.000000\n",
      "Name: len_texts, dtype: float64\n"
     ]
    },
    {
     "data": {
      "image/png": "[encoded data removed]",
      "text/plain": [
       "<Figure size 800x500 with 1 Axes>"
      ]
     },
     "metadata": {},
     "output_type": "display_data"
    }
   ],
   "source": [
    "df_train['len_texts'] = [len(tweet) for tweet in tokenized.values()]\n",
    "\n",
    "\n",
    "import matplotlib.pyplot as plt\n",
    "print(df_train['len_texts'].describe())\n",
    "plt.figure(figsize=(8, 5))\n",
    "plt.hist(df_train['len_texts'], bins=40, edgecolor='black')\n",
    "plt.xlabel(\"Número de tokens\")\n",
    "plt.ylabel(\"Frecuencia\")\n",
    "plt.title(\"Distribución de la longitud de los textos\")\n",
    "plt.tight_layout()\n",
    "plt.show()\n"
   ]
  },
  {
   "cell_type": "code",
   "execution_count": 20,
   "id": "d56c8a97",
   "metadata": {},
   "outputs": [],
   "source": [
    "from tensorflow.keras.utils import pad_sequences\n",
    "vocab_size = 100000\n",
    "embedding_dim = 100\n",
    "df_train['len_texts'] = [len(tweet) for tweet in tokenized.values()]\n",
    "max_length = max_length_texts = int(np.percentile(df_train['len_texts'], 80))\n",
    "\n",
    "X_train = list(tokenized.values())\n",
    "y_train = df_train['ideology_encoded'].values\n",
    "seed = 42\n",
    "\n",
    "X_val = list(tokenized_dev.values())\n",
    "y_val = df_dev['ideology_encoded'].values\n",
    "\n",
    "\n",
    "\n",
    "vocab = processor.build_vocab(X_train, vocab_size)                  # processor ya instanciado antes TweetProcessor\n",
    "\n",
    "\n",
    "encoded_x_train = processor.text_encoder(X_train, vocab, max_len=max_length)\n",
    "encoded_x_val = processor.text_encoder(X_val, vocab, max_len=max_length)\n",
    "\n",
    "\n"
   ]
  },
  {
   "cell_type": "code",
   "execution_count": null,
   "id": "3f064f11",
   "metadata": {},
   "outputs": [],
   "source": [
    "cnn = Sequential()\n",
    "cnn.add(Embedding(input_dim=vocab_size, output_dim=embedding_dim, input_shape=(max_length,)))\n",
    "cnn.add(Conv1D(filters=128, kernel_size=5, activation='relu'))\n",
    "cnn.add(MaxPooling1D(pool_size=2))\n",
    "cnn.add(Flatten())\n",
    "cnn.add(Dense(128, activation='relu'))\n",
    "cnn.add(Dropout(0.5))\n",
    "cnn.add(Dense(4, activation='softmax'))\n",
    "cnn.compile(optimizer=Adam(learning_rate=0.001), loss='sparse_categorical_crossentropy', metrics=['accuracy'])\n",
    "cnn.summary()\n",
    "\n"
   ]
  },
  {
   "cell_type": "code",
   "execution_count": 127,
   "id": "fb398126",
   "metadata": {},
   "outputs": [
    {
     "name": "stdout",
     "output_type": "stream",
     "text": [
      "Epoch 1/10\n",
      "\u001b[1m702/702\u001b[0m \u001b[32m━━━━━━━━━━━━━━━━━━━━\u001b[0m\u001b[37m\u001b[0m \u001b[1m46s\u001b[0m 65ms/step - accuracy: 0.4824 - loss: 1.1606 - val_accuracy: 0.5674 - val_loss: 1.0287\n",
      "Epoch 2/10\n",
      "\u001b[1m702/702\u001b[0m \u001b[32m━━━━━━━━━━━━━━━━━━━━\u001b[0m\u001b[37m\u001b[0m \u001b[1m45s\u001b[0m 65ms/step - accuracy: 0.7723 - loss: 0.6130 - val_accuracy: 0.5535 - val_loss: 1.1301\n",
      "Epoch 3/10\n",
      "\u001b[1m702/702\u001b[0m \u001b[32m━━━━━━━━━━━━━━━━━━━━\u001b[0m\u001b[37m\u001b[0m \u001b[1m45s\u001b[0m 65ms/step - accuracy: 0.9412 - loss: 0.1889 - val_accuracy: 0.5299 - val_loss: 1.6783\n",
      "Epoch 4/10\n",
      "\u001b[1m702/702\u001b[0m \u001b[32m━━━━━━━━━━━━━━━━━━━━\u001b[0m\u001b[37m\u001b[0m \u001b[1m46s\u001b[0m 65ms/step - accuracy: 0.9812 - loss: 0.0617 - val_accuracy: 0.5278 - val_loss: 2.3487\n",
      "Epoch 5/10\n",
      "\u001b[1m702/702\u001b[0m \u001b[32m━━━━━━━━━━━━━━━━━━━━\u001b[0m\u001b[37m\u001b[0m \u001b[1m45s\u001b[0m 64ms/step - accuracy: 0.9913 - loss: 0.0254 - val_accuracy: 0.5253 - val_loss: 2.8610\n",
      "Epoch 6/10\n",
      "\u001b[1m702/702\u001b[0m \u001b[32m━━━━━━━━━━━━━━━━━━━━\u001b[0m\u001b[37m\u001b[0m \u001b[1m45s\u001b[0m 64ms/step - accuracy: 0.9927 - loss: 0.0206 - val_accuracy: 0.5335 - val_loss: 3.4624\n",
      "Epoch 7/10\n",
      "\u001b[1m702/702\u001b[0m \u001b[32m━━━━━━━━━━━━━━━━━━━━\u001b[0m\u001b[37m\u001b[0m \u001b[1m46s\u001b[0m 66ms/step - accuracy: 0.9939 - loss: 0.0173 - val_accuracy: 0.5328 - val_loss: 3.6676\n",
      "Epoch 8/10\n",
      "\u001b[1m702/702\u001b[0m \u001b[32m━━━━━━━━━━━━━━━━━━━━\u001b[0m\u001b[37m\u001b[0m \u001b[1m45s\u001b[0m 64ms/step - accuracy: 0.9925 - loss: 0.0225 - val_accuracy: 0.5282 - val_loss: 3.4605\n",
      "Epoch 9/10\n",
      "\u001b[1m702/702\u001b[0m \u001b[32m━━━━━━━━━━━━━━━━━━━━\u001b[0m\u001b[37m\u001b[0m \u001b[1m44s\u001b[0m 63ms/step - accuracy: 0.9912 - loss: 0.0268 - val_accuracy: 0.5324 - val_loss: 4.1197\n",
      "Epoch 10/10\n",
      "\u001b[1m702/702\u001b[0m \u001b[32m━━━━━━━━━━━━━━━━━━━━\u001b[0m\u001b[37m\u001b[0m \u001b[1m46s\u001b[0m 65ms/step - accuracy: 0.9942 - loss: 0.0167 - val_accuracy: 0.5232 - val_loss: 4.4686\n"
     ]
    }
   ],
   "source": [
    "history = cnn.fit(encoded_x_train, y_train, epochs=10, batch_size=32, validation_data=(encoded_x_val, y_val), verbose=1)"
   ]
  },
  {
   "cell_type": "code",
   "execution_count": 129,
   "id": "9b955f23",
   "metadata": {},
   "outputs": [
    {
     "data": {
      "image/png": "[encoded data removed]",
      "text/plain": [
       "<Figure size 1400x600 with 2 Axes>"
      ]
     },
     "metadata": {},
     "output_type": "display_data"
    }
   ],
   "source": [
    "grafics1(history)"
   ]
  },
  {
   "cell_type": "code",
   "execution_count": null,
   "id": "d3763e76",
   "metadata": {},
   "outputs": [
    {
     "name": "stdout",
     "output_type": "stream",
     "text": [
      "Test loss: 4.6291\n",
      "Test accuracy: 0.5137\n",
      "\n",
      "Accuracy (sklearn): 0.5137\n",
      "\n",
      "Classification Report:\n",
      "              precision    recall  f1-score   support\n",
      "\n",
      "           0     0.5160    0.5190    0.5175       684\n",
      "           1     0.5330    0.5644    0.5483       916\n",
      "           2     0.5329    0.5386    0.5358       841\n",
      "           3     0.3913    0.3197    0.3519       366\n",
      "\n",
      "    accuracy                         0.5137      2807\n",
      "   macro avg     0.4933    0.4854    0.4884      2807\n",
      "weighted avg     0.5104    0.5137    0.5114      2807\n",
      "\n"
     ]
    },
    {
     "data": {
      "image/png": "[encoded data removed]",
      "text/plain": [
       "<Figure size 600x600 with 1 Axes>"
      ]
     },
     "metadata": {},
     "output_type": "display_data"
    }
   ],
   "source": [
    "plot_metrics(cnn, encoded_x_val, y_val)"
   ]
  },
  {
   "cell_type": "markdown",
   "id": "205a1744",
   "metadata": {},
   "source": [
    "### CNN con embeddings de word2vec"
   ]
  },
  {
   "cell_type": "code",
   "execution_count": 24,
   "id": "87797fec",
   "metadata": {},
   "outputs": [],
   "source": [
    "import gensim\n",
    "from gensim.models import KeyedVectors\n",
    "h_path = r'C:\\Users\\fuenl\\OneDrive\\Escritorio\\SBW-vectors-300-min5.txt'\n",
    "path = r'C:\\Users\\Usuario\\OneDrive - Universidad Rey Juan Carlos\\3o\\2 Cuatri\\NLP\\PRACTICA_FINAL_NLP\\PracticaPLN\\datasets\\SBW-vectors-300-min5.txt'\n",
    "model = KeyedVectors.load_word2vec_format(h_path, binary=False)"
   ]
  },
  {
   "cell_type": "code",
   "execution_count": 25,
   "id": "0f02631c",
   "metadata": {},
   "outputs": [],
   "source": [
    "vocab_size = 100000\n",
    "embedding_dim = 300  # Dimension de cada vector. 300 ya que debe coincidir con el modelo importado \n",
    "\n",
    "# Crear la matriz de embeddings\n",
    "embedding_matrix = np.zeros((vocab_size, embedding_dim))\n",
    "\n",
    "for token, idx in vocab.items():\n",
    "    if idx < vocab_size and token in model:\n",
    "        embedding_matrix[idx] = model[token]"
   ]
  },
  {
   "cell_type": "markdown",
   "id": "f4f7c015",
   "metadata": {},
   "source": [
    "#####    -------------- CNN con Word2Vec ------------------\n",
    "Capas:\n",
    "- Embedding (preentrenada)\n",
    "- Conv1D (128 filtros, kernel_size=5, activación ReLU)\n",
    "- MaxPooling1D (pool_size=2)\n",
    "- Flatten\n",
    "- Dense (128 neuronas, activación ReLU) para añadir no linealidad\n",
    "- Dropout (0.5) para evitar sobreajuste (aunque no funciona muy bien...)\n",
    "- Dense (4 neuronas, activación softmax) para clasificar en 4 clases"
   ]
  },
  {
   "cell_type": "code",
   "execution_count": 26,
   "id": "7671cddd",
   "metadata": {},
   "outputs": [
    {
     "name": "stderr",
     "output_type": "stream",
     "text": [
      "c:\\Users\\fuenl\\AppData\\Local\\Programs\\Python\\Python312\\Lib\\site-packages\\keras\\src\\layers\\core\\embedding.py:93: UserWarning: Do not pass an `input_shape`/`input_dim` argument to a layer. When using Sequential models, prefer using an `Input(shape)` object as the first layer in the model instead.\n",
      "  super().__init__(**kwargs)\n"
     ]
    },
    {
     "data": {
      "text/html": [
       "<pre style=\"white-space:pre;overflow-x:auto;line-height:normal;font-family:Menlo,'DejaVu Sans Mono',consolas,'Courier New',monospace\"><span style=\"font-weight: bold\">Model: \"sequential_1\"</span>\n",
       "</pre>\n"
      ],
      "text/plain": [
       "\u001b[1mModel: \"sequential_1\"\u001b[0m\n"
      ]
     },
     "metadata": {},
     "output_type": "display_data"
    },
    {
     "data": {
      "text/html": [
       "<pre style=\"white-space:pre;overflow-x:auto;line-height:normal;font-family:Menlo,'DejaVu Sans Mono',consolas,'Courier New',monospace\">┏━━━━━━━━━━━━━━━━━━━━━━━━━━━━━━━━━┳━━━━━━━━━━━━━━━━━━━━━━━━┳━━━━━━━━━━━━━━━┓\n",
       "┃<span style=\"font-weight: bold\"> Layer (type)                    </span>┃<span style=\"font-weight: bold\"> Output Shape           </span>┃<span style=\"font-weight: bold\">       Param # </span>┃\n",
       "┡━━━━━━━━━━━━━━━━━━━━━━━━━━━━━━━━━╇━━━━━━━━━━━━━━━━━━━━━━━━╇━━━━━━━━━━━━━━━┩\n",
       "│ embedding_1 (<span style=\"color: #0087ff; text-decoration-color: #0087ff\">Embedding</span>)         │ (<span style=\"color: #00d7ff; text-decoration-color: #00d7ff\">None</span>, <span style=\"color: #00af00; text-decoration-color: #00af00\">170</span>, <span style=\"color: #00af00; text-decoration-color: #00af00\">300</span>)       │    <span style=\"color: #00af00; text-decoration-color: #00af00\">30,000,000</span> │\n",
       "├─────────────────────────────────┼────────────────────────┼───────────────┤\n",
       "│ conv1d_1 (<span style=\"color: #0087ff; text-decoration-color: #0087ff\">Conv1D</span>)               │ (<span style=\"color: #00d7ff; text-decoration-color: #00d7ff\">None</span>, <span style=\"color: #00af00; text-decoration-color: #00af00\">166</span>, <span style=\"color: #00af00; text-decoration-color: #00af00\">128</span>)       │       <span style=\"color: #00af00; text-decoration-color: #00af00\">192,128</span> │\n",
       "├─────────────────────────────────┼────────────────────────┼───────────────┤\n",
       "│ max_pooling1d_1 (<span style=\"color: #0087ff; text-decoration-color: #0087ff\">MaxPooling1D</span>)  │ (<span style=\"color: #00d7ff; text-decoration-color: #00d7ff\">None</span>, <span style=\"color: #00af00; text-decoration-color: #00af00\">83</span>, <span style=\"color: #00af00; text-decoration-color: #00af00\">128</span>)        │             <span style=\"color: #00af00; text-decoration-color: #00af00\">0</span> │\n",
       "├─────────────────────────────────┼────────────────────────┼───────────────┤\n",
       "│ flatten_1 (<span style=\"color: #0087ff; text-decoration-color: #0087ff\">Flatten</span>)             │ (<span style=\"color: #00d7ff; text-decoration-color: #00d7ff\">None</span>, <span style=\"color: #00af00; text-decoration-color: #00af00\">10624</span>)          │             <span style=\"color: #00af00; text-decoration-color: #00af00\">0</span> │\n",
       "├─────────────────────────────────┼────────────────────────┼───────────────┤\n",
       "│ dense_2 (<span style=\"color: #0087ff; text-decoration-color: #0087ff\">Dense</span>)                 │ (<span style=\"color: #00d7ff; text-decoration-color: #00d7ff\">None</span>, <span style=\"color: #00af00; text-decoration-color: #00af00\">128</span>)            │     <span style=\"color: #00af00; text-decoration-color: #00af00\">1,360,000</span> │\n",
       "├─────────────────────────────────┼────────────────────────┼───────────────┤\n",
       "│ dropout_1 (<span style=\"color: #0087ff; text-decoration-color: #0087ff\">Dropout</span>)             │ (<span style=\"color: #00d7ff; text-decoration-color: #00d7ff\">None</span>, <span style=\"color: #00af00; text-decoration-color: #00af00\">128</span>)            │             <span style=\"color: #00af00; text-decoration-color: #00af00\">0</span> │\n",
       "├─────────────────────────────────┼────────────────────────┼───────────────┤\n",
       "│ dense_3 (<span style=\"color: #0087ff; text-decoration-color: #0087ff\">Dense</span>)                 │ (<span style=\"color: #00d7ff; text-decoration-color: #00d7ff\">None</span>, <span style=\"color: #00af00; text-decoration-color: #00af00\">4</span>)              │           <span style=\"color: #00af00; text-decoration-color: #00af00\">516</span> │\n",
       "└─────────────────────────────────┴────────────────────────┴───────────────┘\n",
       "</pre>\n"
      ],
      "text/plain": [
       "┏━━━━━━━━━━━━━━━━━━━━━━━━━━━━━━━━━┳━━━━━━━━━━━━━━━━━━━━━━━━┳━━━━━━━━━━━━━━━┓\n",
       "┃\u001b[1m \u001b[0m\u001b[1mLayer (type)                   \u001b[0m\u001b[1m \u001b[0m┃\u001b[1m \u001b[0m\u001b[1mOutput Shape          \u001b[0m\u001b[1m \u001b[0m┃\u001b[1m \u001b[0m\u001b[1m      Param #\u001b[0m\u001b[1m \u001b[0m┃\n",
       "┡━━━━━━━━━━━━━━━━━━━━━━━━━━━━━━━━━╇━━━━━━━━━━━━━━━━━━━━━━━━╇━━━━━━━━━━━━━━━┩\n",
       "│ embedding_1 (\u001b[38;5;33mEmbedding\u001b[0m)         │ (\u001b[38;5;45mNone\u001b[0m, \u001b[38;5;34m170\u001b[0m, \u001b[38;5;34m300\u001b[0m)       │    \u001b[38;5;34m30,000,000\u001b[0m │\n",
       "├─────────────────────────────────┼────────────────────────┼───────────────┤\n",
       "│ conv1d_1 (\u001b[38;5;33mConv1D\u001b[0m)               │ (\u001b[38;5;45mNone\u001b[0m, \u001b[38;5;34m166\u001b[0m, \u001b[38;5;34m128\u001b[0m)       │       \u001b[38;5;34m192,128\u001b[0m │\n",
       "├─────────────────────────────────┼────────────────────────┼───────────────┤\n",
       "│ max_pooling1d_1 (\u001b[38;5;33mMaxPooling1D\u001b[0m)  │ (\u001b[38;5;45mNone\u001b[0m, \u001b[38;5;34m83\u001b[0m, \u001b[38;5;34m128\u001b[0m)        │             \u001b[38;5;34m0\u001b[0m │\n",
       "├─────────────────────────────────┼────────────────────────┼───────────────┤\n",
       "│ flatten_1 (\u001b[38;5;33mFlatten\u001b[0m)             │ (\u001b[38;5;45mNone\u001b[0m, \u001b[38;5;34m10624\u001b[0m)          │             \u001b[38;5;34m0\u001b[0m │\n",
       "├─────────────────────────────────┼────────────────────────┼───────────────┤\n",
       "│ dense_2 (\u001b[38;5;33mDense\u001b[0m)                 │ (\u001b[38;5;45mNone\u001b[0m, \u001b[38;5;34m128\u001b[0m)            │     \u001b[38;5;34m1,360,000\u001b[0m │\n",
       "├─────────────────────────────────┼────────────────────────┼───────────────┤\n",
       "│ dropout_1 (\u001b[38;5;33mDropout\u001b[0m)             │ (\u001b[38;5;45mNone\u001b[0m, \u001b[38;5;34m128\u001b[0m)            │             \u001b[38;5;34m0\u001b[0m │\n",
       "├─────────────────────────────────┼────────────────────────┼───────────────┤\n",
       "│ dense_3 (\u001b[38;5;33mDense\u001b[0m)                 │ (\u001b[38;5;45mNone\u001b[0m, \u001b[38;5;34m4\u001b[0m)              │           \u001b[38;5;34m516\u001b[0m │\n",
       "└─────────────────────────────────┴────────────────────────┴───────────────┘\n"
      ]
     },
     "metadata": {},
     "output_type": "display_data"
    },
    {
     "data": {
      "text/html": [
       "<pre style=\"white-space:pre;overflow-x:auto;line-height:normal;font-family:Menlo,'DejaVu Sans Mono',consolas,'Courier New',monospace\"><span style=\"font-weight: bold\"> Total params: </span><span style=\"color: #00af00; text-decoration-color: #00af00\">31,552,644</span> (120.36 MB)\n",
       "</pre>\n"
      ],
      "text/plain": [
       "\u001b[1m Total params: \u001b[0m\u001b[38;5;34m31,552,644\u001b[0m (120.36 MB)\n"
      ]
     },
     "metadata": {},
     "output_type": "display_data"
    },
    {
     "data": {
      "text/html": [
       "<pre style=\"white-space:pre;overflow-x:auto;line-height:normal;font-family:Menlo,'DejaVu Sans Mono',consolas,'Courier New',monospace\"><span style=\"font-weight: bold\"> Trainable params: </span><span style=\"color: #00af00; text-decoration-color: #00af00\">1,552,644</span> (5.92 MB)\n",
       "</pre>\n"
      ],
      "text/plain": [
       "\u001b[1m Trainable params: \u001b[0m\u001b[38;5;34m1,552,644\u001b[0m (5.92 MB)\n"
      ]
     },
     "metadata": {},
     "output_type": "display_data"
    },
    {
     "data": {
      "text/html": [
       "<pre style=\"white-space:pre;overflow-x:auto;line-height:normal;font-family:Menlo,'DejaVu Sans Mono',consolas,'Courier New',monospace\"><span style=\"font-weight: bold\"> Non-trainable params: </span><span style=\"color: #00af00; text-decoration-color: #00af00\">30,000,000</span> (114.44 MB)\n",
       "</pre>\n"
      ],
      "text/plain": [
       "\u001b[1m Non-trainable params: \u001b[0m\u001b[38;5;34m30,000,000\u001b[0m (114.44 MB)\n"
      ]
     },
     "metadata": {},
     "output_type": "display_data"
    }
   ],
   "source": [
    "\n",
    "cnn_w2v = Sequential()\n",
    "cnn_w2v.add(Embedding(input_dim=vocab_size, output_dim=embedding_dim, input_shape=(max_length,), weights=[embedding_matrix], trainable=False))\n",
    "cnn_w2v.add(Conv1D(filters=128, kernel_size=5, activation='relu'))\n",
    "cnn_w2v.add(MaxPooling1D(pool_size=2))\n",
    "cnn_w2v.add(Flatten())\n",
    "cnn_w2v.add(Dense(128, activation='relu'))\n",
    "cnn_w2v.add(Dropout(0.5))\n",
    "cnn_w2v.add(Dense(4, activation='softmax'))\n",
    "cnn_w2v.compile(optimizer=Adam(learning_rate=0.001), loss='sparse_categorical_crossentropy', metrics=['accuracy'])\n",
    "cnn_w2v.summary()\n"
   ]
  },
  {
   "cell_type": "code",
   "execution_count": null,
   "id": "0dd63b49",
   "metadata": {},
   "outputs": [
    {
     "name": "stdout",
     "output_type": "stream",
     "text": [
      "Epoch 1/10\n",
      "\u001b[1m702/702\u001b[0m \u001b[32m━━━━━━━━━━━━━━━━━━━━\u001b[0m\u001b[37m\u001b[0m \u001b[1m13s\u001b[0m 18ms/step - accuracy: 0.9685 - loss: 0.0998 - val_accuracy: 0.4294 - val_loss: 3.1846\n",
      "Epoch 2/10\n",
      "\u001b[1m702/702\u001b[0m \u001b[32m━━━━━━━━━━━━━━━━━━━━\u001b[0m\u001b[37m\u001b[0m \u001b[1m13s\u001b[0m 18ms/step - accuracy: 0.9728 - loss: 0.0821 - val_accuracy: 0.4230 - val_loss: 3.4348\n",
      "Epoch 3/10\n",
      "\u001b[1m702/702\u001b[0m \u001b[32m━━━━━━━━━━━━━━━━━━━━\u001b[0m\u001b[37m\u001b[0m \u001b[1m13s\u001b[0m 19ms/step - accuracy: 0.9718 - loss: 0.0824 - val_accuracy: 0.4163 - val_loss: 3.7711\n",
      "Epoch 4/10\n",
      "\u001b[1m702/702\u001b[0m \u001b[32m━━━━━━━━━━━━━━━━━━━━\u001b[0m\u001b[37m\u001b[0m \u001b[1m13s\u001b[0m 18ms/step - accuracy: 0.9786 - loss: 0.0632 - val_accuracy: 0.4227 - val_loss: 3.8816\n",
      "Epoch 5/10\n",
      "\u001b[1m702/702\u001b[0m \u001b[32m━━━━━━━━━━━━━━━━━━━━\u001b[0m\u001b[37m\u001b[0m \u001b[1m13s\u001b[0m 18ms/step - accuracy: 0.9757 - loss: 0.0725 - val_accuracy: 0.4369 - val_loss: 3.9677\n",
      "Epoch 6/10\n",
      "\u001b[1m702/702\u001b[0m \u001b[32m━━━━━━━━━━━━━━━━━━━━\u001b[0m\u001b[37m\u001b[0m \u001b[1m12s\u001b[0m 17ms/step - accuracy: 0.9793 - loss: 0.0655 - val_accuracy: 0.4134 - val_loss: 4.1464\n",
      "Epoch 7/10\n",
      "\u001b[1m702/702\u001b[0m \u001b[32m━━━━━━━━━━━━━━━━━━━━\u001b[0m\u001b[37m\u001b[0m \u001b[1m12s\u001b[0m 17ms/step - accuracy: 0.9777 - loss: 0.0674 - val_accuracy: 0.4184 - val_loss: 4.2596\n",
      "Epoch 8/10\n",
      "\u001b[1m702/702\u001b[0m \u001b[32m━━━━━━━━━━━━━━━━━━━━\u001b[0m\u001b[37m\u001b[0m \u001b[1m13s\u001b[0m 18ms/step - accuracy: 0.9819 - loss: 0.0531 - val_accuracy: 0.4148 - val_loss: 4.2487\n",
      "Epoch 9/10\n",
      "\u001b[1m702/702\u001b[0m \u001b[32m━━━━━━━━━━━━━━━━━━━━\u001b[0m\u001b[37m\u001b[0m \u001b[1m12s\u001b[0m 17ms/step - accuracy: 0.9790 - loss: 0.0622 - val_accuracy: 0.4255 - val_loss: 4.7754\n",
      "Epoch 10/10\n",
      "\u001b[1m702/702\u001b[0m \u001b[32m━━━━━━━━━━━━━━━━━━━━\u001b[0m\u001b[37m\u001b[0m \u001b[1m14s\u001b[0m 19ms/step - accuracy: 0.9835 - loss: 0.0470 - val_accuracy: 0.4130 - val_loss: 4.7351\n",
      "Test loss: 4.5400\n",
      "Test accuracy: 0.4289\n"
     ]
    }
   ],
   "source": [
    "epochs = 10\n",
    "batch_size=32\n",
    "\n",
    "# Entrenamiento de la CNN con embeddings preentrenados (w2v)\n",
    "hist_cnn_w2v = cnn_w2v.fit(encoded_x_train, y_train, epochs=epochs, batch_size=batch_size, validation_data=(encoded_x_val, y_val), verbose=1)\n",
    "\n",
    "# Metricas básicas\n",
    "loss, acc = cnn_w2v.evaluate(encoded_x_val, y_val, verbose=0)\n",
    "print(f\"Test loss: {loss:.4f}\")\n",
    "print(f\"Test accuracy: {acc:.4f}\")\n",
    "\n"
   ]
  },
  {
   "cell_type": "code",
   "execution_count": 119,
   "id": "f3bcd64e",
   "metadata": {},
   "outputs": [
    {
     "data": {
      "image/png": "[encoded data removed]",
      "text/plain": [
       "<Figure size 1400x600 with 2 Axes>"
      ]
     },
     "metadata": {},
     "output_type": "display_data"
    }
   ],
   "source": [
    "grafics1(hist_cnn_w2v)"
   ]
  },
  {
   "cell_type": "code",
   "execution_count": null,
   "id": "b6c409e1",
   "metadata": {},
   "outputs": [],
   "source": [
    "plot_metrics(cnn_w2v, encoded_x_val, y_val)"
   ]
  },
  {
   "cell_type": "markdown",
   "id": "e3970e8e",
   "metadata": {},
   "source": [
    "## Bi-LSTM"
   ]
  },
  {
   "cell_type": "code",
   "execution_count": 36,
   "id": "00898494",
   "metadata": {},
   "outputs": [
    {
     "data": {
      "text/html": [
       "<pre style=\"white-space:pre;overflow-x:auto;line-height:normal;font-family:Menlo,'DejaVu Sans Mono',consolas,'Courier New',monospace\"><span style=\"font-weight: bold\">Model: \"sequential_7\"</span>\n",
       "</pre>\n"
      ],
      "text/plain": [
       "\u001b[1mModel: \"sequential_7\"\u001b[0m\n"
      ]
     },
     "metadata": {},
     "output_type": "display_data"
    },
    {
     "data": {
      "text/html": [
       "<pre style=\"white-space:pre;overflow-x:auto;line-height:normal;font-family:Menlo,'DejaVu Sans Mono',consolas,'Courier New',monospace\">┏━━━━━━━━━━━━━━━━━━━━━━━━━━━━━━━━━┳━━━━━━━━━━━━━━━━━━━━━━━━┳━━━━━━━━━━━━━━━┓\n",
       "┃<span style=\"font-weight: bold\"> Layer (type)                    </span>┃<span style=\"font-weight: bold\"> Output Shape           </span>┃<span style=\"font-weight: bold\">       Param # </span>┃\n",
       "┡━━━━━━━━━━━━━━━━━━━━━━━━━━━━━━━━━╇━━━━━━━━━━━━━━━━━━━━━━━━╇━━━━━━━━━━━━━━━┩\n",
       "│ embedding_7 (<span style=\"color: #0087ff; text-decoration-color: #0087ff\">Embedding</span>)         │ (<span style=\"color: #00d7ff; text-decoration-color: #00d7ff\">None</span>, <span style=\"color: #00af00; text-decoration-color: #00af00\">170</span>, <span style=\"color: #00af00; text-decoration-color: #00af00\">300</span>)       │    <span style=\"color: #00af00; text-decoration-color: #00af00\">30,000,000</span> │\n",
       "├─────────────────────────────────┼────────────────────────┼───────────────┤\n",
       "│ spatial_dropout1d               │ (<span style=\"color: #00d7ff; text-decoration-color: #00d7ff\">None</span>, <span style=\"color: #00af00; text-decoration-color: #00af00\">170</span>, <span style=\"color: #00af00; text-decoration-color: #00af00\">300</span>)       │             <span style=\"color: #00af00; text-decoration-color: #00af00\">0</span> │\n",
       "│ (<span style=\"color: #0087ff; text-decoration-color: #0087ff\">SpatialDropout1D</span>)              │                        │               │\n",
       "├─────────────────────────────────┼────────────────────────┼───────────────┤\n",
       "│ bidirectional (<span style=\"color: #0087ff; text-decoration-color: #0087ff\">Bidirectional</span>)   │ (<span style=\"color: #00d7ff; text-decoration-color: #00d7ff\">None</span>, <span style=\"color: #00af00; text-decoration-color: #00af00\">128</span>)            │       <span style=\"color: #00af00; text-decoration-color: #00af00\">186,880</span> │\n",
       "├─────────────────────────────────┼────────────────────────┼───────────────┤\n",
       "│ dense_12 (<span style=\"color: #0087ff; text-decoration-color: #0087ff\">Dense</span>)                │ (<span style=\"color: #00d7ff; text-decoration-color: #00d7ff\">None</span>, <span style=\"color: #00af00; text-decoration-color: #00af00\">32</span>)             │         <span style=\"color: #00af00; text-decoration-color: #00af00\">4,128</span> │\n",
       "├─────────────────────────────────┼────────────────────────┼───────────────┤\n",
       "│ dropout_8 (<span style=\"color: #0087ff; text-decoration-color: #0087ff\">Dropout</span>)             │ (<span style=\"color: #00d7ff; text-decoration-color: #00d7ff\">None</span>, <span style=\"color: #00af00; text-decoration-color: #00af00\">32</span>)             │             <span style=\"color: #00af00; text-decoration-color: #00af00\">0</span> │\n",
       "├─────────────────────────────────┼────────────────────────┼───────────────┤\n",
       "│ dense_13 (<span style=\"color: #0087ff; text-decoration-color: #0087ff\">Dense</span>)                │ (<span style=\"color: #00d7ff; text-decoration-color: #00d7ff\">None</span>, <span style=\"color: #00af00; text-decoration-color: #00af00\">4</span>)              │           <span style=\"color: #00af00; text-decoration-color: #00af00\">132</span> │\n",
       "└─────────────────────────────────┴────────────────────────┴───────────────┘\n",
       "</pre>\n"
      ],
      "text/plain": [
       "┏━━━━━━━━━━━━━━━━━━━━━━━━━━━━━━━━━┳━━━━━━━━━━━━━━━━━━━━━━━━┳━━━━━━━━━━━━━━━┓\n",
       "┃\u001b[1m \u001b[0m\u001b[1mLayer (type)                   \u001b[0m\u001b[1m \u001b[0m┃\u001b[1m \u001b[0m\u001b[1mOutput Shape          \u001b[0m\u001b[1m \u001b[0m┃\u001b[1m \u001b[0m\u001b[1m      Param #\u001b[0m\u001b[1m \u001b[0m┃\n",
       "┡━━━━━━━━━━━━━━━━━━━━━━━━━━━━━━━━━╇━━━━━━━━━━━━━━━━━━━━━━━━╇━━━━━━━━━━━━━━━┩\n",
       "│ embedding_7 (\u001b[38;5;33mEmbedding\u001b[0m)         │ (\u001b[38;5;45mNone\u001b[0m, \u001b[38;5;34m170\u001b[0m, \u001b[38;5;34m300\u001b[0m)       │    \u001b[38;5;34m30,000,000\u001b[0m │\n",
       "├─────────────────────────────────┼────────────────────────┼───────────────┤\n",
       "│ spatial_dropout1d               │ (\u001b[38;5;45mNone\u001b[0m, \u001b[38;5;34m170\u001b[0m, \u001b[38;5;34m300\u001b[0m)       │             \u001b[38;5;34m0\u001b[0m │\n",
       "│ (\u001b[38;5;33mSpatialDropout1D\u001b[0m)              │                        │               │\n",
       "├─────────────────────────────────┼────────────────────────┼───────────────┤\n",
       "│ bidirectional (\u001b[38;5;33mBidirectional\u001b[0m)   │ (\u001b[38;5;45mNone\u001b[0m, \u001b[38;5;34m128\u001b[0m)            │       \u001b[38;5;34m186,880\u001b[0m │\n",
       "├─────────────────────────────────┼────────────────────────┼───────────────┤\n",
       "│ dense_12 (\u001b[38;5;33mDense\u001b[0m)                │ (\u001b[38;5;45mNone\u001b[0m, \u001b[38;5;34m32\u001b[0m)             │         \u001b[38;5;34m4,128\u001b[0m │\n",
       "├─────────────────────────────────┼────────────────────────┼───────────────┤\n",
       "│ dropout_8 (\u001b[38;5;33mDropout\u001b[0m)             │ (\u001b[38;5;45mNone\u001b[0m, \u001b[38;5;34m32\u001b[0m)             │             \u001b[38;5;34m0\u001b[0m │\n",
       "├─────────────────────────────────┼────────────────────────┼───────────────┤\n",
       "│ dense_13 (\u001b[38;5;33mDense\u001b[0m)                │ (\u001b[38;5;45mNone\u001b[0m, \u001b[38;5;34m4\u001b[0m)              │           \u001b[38;5;34m132\u001b[0m │\n",
       "└─────────────────────────────────┴────────────────────────┴───────────────┘\n"
      ]
     },
     "metadata": {},
     "output_type": "display_data"
    },
    {
     "data": {
      "text/html": [
       "<pre style=\"white-space:pre;overflow-x:auto;line-height:normal;font-family:Menlo,'DejaVu Sans Mono',consolas,'Courier New',monospace\"><span style=\"font-weight: bold\"> Total params: </span><span style=\"color: #00af00; text-decoration-color: #00af00\">30,191,140</span> (115.17 MB)\n",
       "</pre>\n"
      ],
      "text/plain": [
       "\u001b[1m Total params: \u001b[0m\u001b[38;5;34m30,191,140\u001b[0m (115.17 MB)\n"
      ]
     },
     "metadata": {},
     "output_type": "display_data"
    },
    {
     "data": {
      "text/html": [
       "<pre style=\"white-space:pre;overflow-x:auto;line-height:normal;font-family:Menlo,'DejaVu Sans Mono',consolas,'Courier New',monospace\"><span style=\"font-weight: bold\"> Trainable params: </span><span style=\"color: #00af00; text-decoration-color: #00af00\">30,191,140</span> (115.17 MB)\n",
       "</pre>\n"
      ],
      "text/plain": [
       "\u001b[1m Trainable params: \u001b[0m\u001b[38;5;34m30,191,140\u001b[0m (115.17 MB)\n"
      ]
     },
     "metadata": {},
     "output_type": "display_data"
    },
    {
     "data": {
      "text/html": [
       "<pre style=\"white-space:pre;overflow-x:auto;line-height:normal;font-family:Menlo,'DejaVu Sans Mono',consolas,'Courier New',monospace\"><span style=\"font-weight: bold\"> Non-trainable params: </span><span style=\"color: #00af00; text-decoration-color: #00af00\">0</span> (0.00 B)\n",
       "</pre>\n"
      ],
      "text/plain": [
       "\u001b[1m Non-trainable params: \u001b[0m\u001b[38;5;34m0\u001b[0m (0.00 B)\n"
      ]
     },
     "metadata": {},
     "output_type": "display_data"
    }
   ],
   "source": [
    "recurrent_dropout = 0.2\n",
    "dropout_embed = 0.2\n",
    "dense_dropout = 0.2\n",
    "\n",
    "\n",
    "\n",
    "bi_lstm = Sequential()\n",
    "bi_lstm.add(Embedding(input_dim=vocab_size, output_dim=embedding_dim, input_shape=(max_length,)))\n",
    "# SpatialDropout1D aplica dropout sobre embeddings completos (mejor que el dropout clásico aquí)\n",
    "bi_lstm.add(SpatialDropout1D(dropout_embed))\n",
    "bi_lstm.add(Bidirectional(LSTM(64, dropout=dense_dropout, recurrent_dropout=recurrent_dropout)))\n",
    "bi_lstm.add(Dense(32, activation='relu'))\n",
    "bi_lstm.add(Dropout(dense_dropout))\n",
    "bi_lstm.add(Dense(4, activation='sigmoid'))\n",
    "bi_lstm.compile(loss='sparse_categorical_crossentropy', optimizer=Adam(1e-3), metrics=['accuracy'])\n",
    "bi_lstm.summary()\n",
    "\n"
   ]
  },
  {
   "cell_type": "code",
   "execution_count": null,
   "id": "96fe3394",
   "metadata": {},
   "outputs": [
    {
     "name": "stdout",
     "output_type": "stream",
     "text": [
      "Epoch 1/5\n",
      "\u001b[1m702/702\u001b[0m \u001b[32m━━━━━━━━━━━━━━━━━━━━\u001b[0m\u001b[37m\u001b[0m \u001b[1m235s\u001b[0m 335ms/step - accuracy: 0.4380 - loss: 1.2276 - val_accuracy: 0.5595 - val_loss: 1.0286\n",
      "Epoch 2/5\n",
      "\u001b[1m702/702\u001b[0m \u001b[32m━━━━━━━━━━━━━━━━━━━━\u001b[0m\u001b[37m\u001b[0m \u001b[1m237s\u001b[0m 338ms/step - accuracy: 0.7251 - loss: 0.7425 - val_accuracy: 0.5720 - val_loss: 1.0322\n",
      "Epoch 3/5\n",
      "\u001b[1m702/702\u001b[0m \u001b[32m━━━━━━━━━━━━━━━━━━━━\u001b[0m\u001b[37m\u001b[0m \u001b[1m238s\u001b[0m 340ms/step - accuracy: 0.8538 - loss: 0.4228 - val_accuracy: 0.5577 - val_loss: 1.2726\n",
      "Epoch 4/5\n",
      "\u001b[1m702/702\u001b[0m \u001b[32m━━━━━━━━━━━━━━━━━━━━\u001b[0m\u001b[37m\u001b[0m \u001b[1m268s\u001b[0m 381ms/step - accuracy: 0.9168 - loss: 0.2454 - val_accuracy: 0.5460 - val_loss: 1.5610\n",
      "Test loss: 1.0380\n",
      "Test accuracy: 0.5600\n"
     ]
    }
   ],
   "source": [
    "epochs = 5\n",
    "batch_size=32\n",
    "es = EarlyStopping(monitor='val_loss', patience=3, restore_best_weights=True)\n",
    "\n",
    "hist_bi_lstm = bi_lstm.fit(encoded_x_train, y_train, epochs=epochs, batch_size=batch_size, validation_data=(encoded_x_val, y_val), verbose=1, callbacks=[es])\n",
    "\n",
    "# Metricas básicas\n",
    "loss, acc = bi_lstm.evaluate(encoded_x_val, y_val, verbose=0)\n",
    "print(f\"Test loss: {loss:.4f}\")\n",
    "print(f\"Test accuracy: {acc:.4f}\")"
   ]
  },
  {
   "cell_type": "code",
   "execution_count": null,
   "id": "b3f7ba7f",
   "metadata": {},
   "outputs": [
    {
     "name": "stdout",
     "output_type": "stream",
     "text": [
      "Test loss: 1.0380\n",
      "Test accuracy: 0.5600\n",
      "\n",
      "Accuracy (sklearn): 0.5600\n",
      "\n",
      "Classification Report:\n",
      "              precision    recall  f1-score   support\n",
      "\n",
      "           0     0.5604    0.5292    0.5444       684\n",
      "           1     0.5788    0.6376    0.6068       916\n",
      "           2     0.5749    0.5981    0.5862       841\n",
      "           3     0.4440    0.3361    0.3826       366\n",
      "\n",
      "    accuracy                         0.5600      2807\n",
      "   macro avg     0.5395    0.5252    0.5300      2807\n",
      "weighted avg     0.5556    0.5600    0.5562      2807\n",
      "\n"
     ]
    },
    {
     "data": {
      "image/png": "[encoded data removed]",
      "text/plain": [
       "<Figure size 1400x600 with 2 Axes>"
      ]
     },
     "metadata": {},
     "output_type": "display_data"
    },
    {
     "data": {
      "image/png": "[encoded data removed]",
      "text/plain": [
       "<Figure size 600x600 with 1 Axes>"
      ]
     },
     "metadata": {},
     "output_type": "display_data"
    }
   ],
   "source": [
    "grafics1(hist_bi_lstm)\n",
    "plot_metrics(bi_lstm, encoded_x_val, y_val)"
   ]
  },
  {
   "cell_type": "markdown",
   "id": "7c3ea4a7",
   "metadata": {},
   "source": [
    "# TRANSFORMER"
   ]
  },
  {
   "cell_type": "code",
   "execution_count": 50,
   "id": "3442eac9",
   "metadata": {},
   "outputs": [],
   "source": [
    "import numpy as np\n",
    "\n",
    "vocab_size = 100000\n",
    "embedding_dim = 100\n",
    "max_length = max_length_texts = int(np.percentile(df_train['len_texts'], 80))\n",
    "processor = TweetProcessor(remove_emojis=False, remove_mentions=True)\n",
    "\n",
    "X = df_train['tweet']\n",
    "y = df_train['ideology_encoded'].values\n",
    "val_x = df_dev['tweet']\n",
    "val_y = df_dev['ideology_encoded'].values\n",
    "seed = 42\n",
    "\n",
    "vocab = processor.build_vocab(X, vocab_size)                  # processor ya instanciado antes TweetProcessor"
   ]
  },
  {
   "cell_type": "code",
   "execution_count": null,
   "id": "6e0bc6c3",
   "metadata": {},
   "outputs": [],
   "source": [
    "\n",
    "model_id = \"dccuchile/bert-base-spanish-wwm-cased\"  # Modelo en español\n",
    "\n",
    "tokenizer = AutoTokenizer.from_pretrained(model_id)\n",
    "\n"
   ]
  },
  {
   "cell_type": "code",
   "execution_count": 52,
   "id": "860c467a",
   "metadata": {},
   "outputs": [
    {
     "name": "stdout",
     "output_type": "stream",
     "text": [
      "Tamaño máximo : 128\n"
     ]
    }
   ],
   "source": [
    "\n",
    "# Marcamos el tamaño maximo para truncar los textos\n",
    "\n",
    "MAX_LENGTH = 128\n",
    "\n",
    "print(\"Tamaño máximo :\", MAX_LENGTH)\n"
   ]
  },
  {
   "cell_type": "code",
   "execution_count": 53,
   "id": "b45bc595",
   "metadata": {},
   "outputs": [],
   "source": [
    "def tokenize(batch):\n",
    "    return tokenizer(\n",
    "        batch[\"text\"],\n",
    "        padding=\"max_length\",\n",
    "        truncation=True,\n",
    "        max_length=MAX_LENGTH\n",
    "    )"
   ]
  },
  {
   "cell_type": "code",
   "execution_count": null,
   "id": "d015fab9",
   "metadata": {},
   "outputs": [
    {
     "name": "stderr",
     "output_type": "stream",
     "text": [
      "Map: 100%|██████████| 28065/28065 [00:01<00:00, 21151.39 examples/s]\n",
      "Map: 100%|██████████| 4678/4678 [00:00<00:00, 20466.51 examples/s]\n"
     ]
    }
   ],
   "source": [
    "\n",
    "\n",
    "# X,y para train, df_dev para validation\n",
    "\n",
    "train_dataset = Dataset.from_dict({\"text\": X, \"label\": y.tolist()})\n",
    "val_dataset = Dataset.from_dict({\"text\": df_dev['tweet'].tolist(), \"label\": df_dev['ideology_encoded'].tolist()})\n",
    "\n",
    "dataset_dict = DatasetDict({\n",
    "    \"train\": train_dataset,\n",
    "    \"validation\": val_dataset,\n",
    "})\n",
    "\n",
    "encoded_data = dataset_dict.map(tokenize, batched=True) # Al mapear con tokenize, se aplica a cada tweet y se hace el encode\n",
    "encoded_data.set_format(\"torch\") # Nos aseguramos de que el formato sea compatible con PyTorch\n",
    "train_dataset = encoded_data[\"train\"]\n",
    "validation_dataset = encoded_data[\"validation\"]\n"
   ]
  },
  {
   "cell_type": "code",
   "execution_count": null,
   "id": "d067bf3e",
   "metadata": {},
   "outputs": [
    {
     "name": "stderr",
     "output_type": "stream",
     "text": [
      "Some weights of BertForSequenceClassification were not initialized from the model checkpoint at dccuchile/bert-base-spanish-wwm-cased and are newly initialized: ['bert.pooler.dense.bias', 'bert.pooler.dense.weight', 'classifier.bias', 'classifier.weight']\n",
      "You should probably TRAIN this model on a down-stream task to be able to use it for predictions and inference.\n"
     ]
    }
   ],
   "source": [
    "\n",
    "\n",
    "model_id = \"dccuchile/bert-base-spanish-wwm-cased\"  # Modelo BERT en español\n",
    "model = AutoModelForSequenceClassification.from_pretrained(model_id, num_labels=4)\n"
   ]
  },
  {
   "cell_type": "code",
   "execution_count": null,
   "id": "7767a978",
   "metadata": {},
   "outputs": [],
   "source": [
    "\n",
    "args = TrainingArguments(\n",
    "    output_dir=\"./outputs\",\n",
    "    per_device_train_batch_size=32,\n",
    "    per_device_eval_batch_size=32,\n",
    "    eval_strategy=\"epoch\",\n",
    "    report_to=\"none\"\n",
    ") # Ponemos a punto todos los hiperparametros del modelo"
   ]
  },
  {
   "cell_type": "code",
   "execution_count": null,
   "id": "1c838e78",
   "metadata": {},
   "outputs": [],
   "source": [
    "\n",
    "\n",
    "def compute_metrics(pred):\n",
    "    y_true = pred.label_ids\n",
    "    y_pred = pred.predictions.argmax(-1)\n",
    "\n",
    "    accuracy = accuracy_score(y_true, y_pred)\n",
    "    precision, recall, f1, _ = precision_recall_fscore_support(y_true, y_pred, average='macro')\n",
    "\n",
    "    return {\n",
    "        'accuracy': accuracy,\n",
    "        'f1': f1,\n",
    "        'precision': precision,\n",
    "        'recall': recall\n",
    "    }"
   ]
  },
  {
   "cell_type": "code",
   "execution_count": null,
   "id": "dfac0dfb",
   "metadata": {},
   "outputs": [
    {
     "name": "stdout",
     "output_type": "stream",
     "text": [
      "WARNING:tensorflow:From c:\\Users\\fuenl\\AppData\\Local\\Programs\\Python\\Python312\\Lib\\site-packages\\tf_keras\\src\\losses.py:2976: The name tf.losses.sparse_softmax_cross_entropy is deprecated. Please use tf.compat.v1.losses.sparse_softmax_cross_entropy instead.\n",
      "\n"
     ]
    }
   ],
   "source": [
    "\n",
    "# Para crear un objeto de tipo Trainer hay que pasar el modelo, los conjuntos de entrenamiento y validación, los argumentos y la función para calcular\n",
    "# las métricas.\n",
    "\n",
    "trainer = Trainer(\n",
    "    model = model,            # modelo que será ajustado\n",
    "    \n",
    "    train_dataset = train_dataset ,  # conjunto training\n",
    "    eval_dataset = validation_dataset,  # conjunto de validación\n",
    "\n",
    "    args = args,     # hiperparámetros\n",
    "    compute_metrics=compute_metrics,    # función para computar las métricas\n",
    ")\n"
   ]
  },
  {
   "cell_type": "code",
   "execution_count": 60,
   "id": "3f704ff3",
   "metadata": {},
   "outputs": [
    {
     "data": {
      "text/html": [
       "\n",
       "    <div>\n",
       "      \n",
       "      <progress value='2634' max='2634' style='width:300px; height:20px; vertical-align: middle;'></progress>\n",
       "      [2634/2634 08:23, Epoch 3/3]\n",
       "    </div>\n",
       "    <table border=\"1\" class=\"dataframe\">\n",
       "  <thead>\n",
       " <tr style=\"text-align: left;\">\n",
       "      <th>Epoch</th>\n",
       "      <th>Training Loss</th>\n",
       "      <th>Validation Loss</th>\n",
       "      <th>Accuracy</th>\n",
       "      <th>F1</th>\n",
       "      <th>Precision</th>\n",
       "      <th>Recall</th>\n",
       "    </tr>\n",
       "  </thead>\n",
       "  <tbody>\n",
       "    <tr>\n",
       "      <td>1</td>\n",
       "      <td>1.125700</td>\n",
       "      <td>0.959125</td>\n",
       "      <td>0.594485</td>\n",
       "      <td>0.562501</td>\n",
       "      <td>0.618064</td>\n",
       "      <td>0.566524</td>\n",
       "    </tr>\n",
       "    <tr>\n",
       "      <td>2</td>\n",
       "      <td>0.658100</td>\n",
       "      <td>0.912672</td>\n",
       "      <td>0.655408</td>\n",
       "      <td>0.636873</td>\n",
       "      <td>0.639527</td>\n",
       "      <td>0.635468</td>\n",
       "    </tr>\n",
       "    <tr>\n",
       "      <td>3</td>\n",
       "      <td>0.280600</td>\n",
       "      <td>1.165170</td>\n",
       "      <td>0.647713</td>\n",
       "      <td>0.628035</td>\n",
       "      <td>0.640334</td>\n",
       "      <td>0.622585</td>\n",
       "    </tr>\n",
       "  </tbody>\n",
       "</table><p>"
      ],
      "text/plain": [
       "<IPython.core.display.HTML object>"
      ]
     },
     "metadata": {},
     "output_type": "display_data"
    },
    {
     "data": {
      "text/plain": [
       "TrainOutput(global_step=2634, training_loss=0.6657147389428582, metrics={'train_runtime': 504.24, 'train_samples_per_second': 166.974, 'train_steps_per_second': 5.224, 'total_flos': 5538258276295680.0, 'train_loss': 0.6657147389428582, 'epoch': 3.0})"
      ]
     },
     "execution_count": 60,
     "metadata": {},
     "output_type": "execute_result"
    }
   ],
   "source": [
    "trainer.train()"
   ]
  },
  {
   "cell_type": "code",
   "execution_count": 61,
   "id": "a7c12490",
   "metadata": {},
   "outputs": [
    {
     "data": {
      "text/html": [
       "\n",
       "    <div>\n",
       "      \n",
       "      <progress value='147' max='147' style='width:300px; height:20px; vertical-align: middle;'></progress>\n",
       "      [147/147 00:08]\n",
       "    </div>\n",
       "    "
      ],
      "text/plain": [
       "<IPython.core.display.HTML object>"
      ]
     },
     "metadata": {},
     "output_type": "display_data"
    },
    {
     "data": {
      "text/plain": [
       "{'eval_loss': 1.1651699542999268,\n",
       " 'eval_accuracy': 0.6477126977340744,\n",
       " 'eval_f1': 0.6280346816388536,\n",
       " 'eval_precision': 0.6403339524251412,\n",
       " 'eval_recall': 0.6225854541975554,\n",
       " 'eval_runtime': 8.0833,\n",
       " 'eval_samples_per_second': 578.726,\n",
       " 'eval_steps_per_second': 18.186,\n",
       " 'epoch': 3.0}"
      ]
     },
     "execution_count": 61,
     "metadata": {},
     "output_type": "execute_result"
    }
   ],
   "source": [
    "trainer.evaluate()"
   ]
  },
  {
   "cell_type": "markdown",
   "id": "7cf4ac02",
   "metadata": {},
   "source": [
    "# ENFOQUE FINAL: DATA AUG + FINETUNING"
   ]
  },
  {
   "cell_type": "code",
   "execution_count": 62,
   "id": "34514334",
   "metadata": {},
   "outputs": [
    {
     "name": "stdout",
     "output_type": "stream",
     "text": [
      "ideology_multiclass\n",
      "moderate_left     9158\n",
      "moderate_right    8412\n",
      "left              6839\n",
      "right             3656\n",
      "Name: count, dtype: int64\n",
      "9158\n"
     ]
    }
   ],
   "source": [
    "counts = df_train['ideology_multiclass'].value_counts()\n",
    "print(counts)\n",
    "max_count = counts.max()\n",
    "print(max_count)\n",
    "\n"
   ]
  },
  {
   "cell_type": "code",
   "execution_count": null,
   "id": "c8d78128",
   "metadata": {},
   "outputs": [
    {
     "name": "stdout",
     "output_type": "stream",
     "text": [
      "ideology_multiclass\n",
      "left              9158\n",
      "moderate_left     9158\n",
      "moderate_right    9158\n",
      "right             7312\n",
      "Name: count, dtype: int64\n"
     ]
    }
   ],
   "source": [
    "\n",
    "\n",
    "aug = naw.SynonymAug(aug_src='wordnet')\n",
    "\n",
    "def augment_text(text, n_aug=1):\n",
    "    augmented_texts = [aug.augment(text) for _ in range(n_aug)]\n",
    "    return augmented_texts\n",
    "\n",
    "\n",
    "dfs = []\n",
    "\n",
    "for label, group in df_train.groupby('ideology_multiclass'):\n",
    "    n_samples = len(group)\n",
    "    n_needed = max_count - n_samples\n",
    "    \n",
    "    dfs.append(group)  # añadir todos los originales\n",
    "    \n",
    "    if n_needed > 0:\n",
    "        # Para generar aumentos, calculamos cuántos tweets aumentar por muestra\n",
    "        n_aug_per_sample = max(1, n_needed // n_samples)\n",
    "        \n",
    "        augmented_texts = []\n",
    "        augmented_rows = []\n",
    "        \n",
    "        for _, row in group.iterrows():\n",
    "            aug_texts = augment_text(row['tweet'], n_aug=n_aug_per_sample)\n",
    "            for aug_text in aug_texts:\n",
    "                new_row = row.copy()\n",
    "                new_row['tweet'] = aug_text\n",
    "                augmented_rows.append(new_row)\n",
    "                if len(augmented_rows) >= n_needed:\n",
    "                    break\n",
    "            if len(augmented_rows) >= n_needed:\n",
    "                break\n",
    "        \n",
    "        dfs.append(pd.DataFrame(augmented_rows))\n",
    "\n",
    "balanced_df = pd.concat(dfs).reset_index(drop=True)\n",
    "\n",
    "\n",
    "b_counts = balanced_df['ideology_multiclass'].value_counts()\n",
    "print(b_counts)"
   ]
  },
  {
   "cell_type": "code",
   "execution_count": null,
   "id": "38d43001",
   "metadata": {},
   "outputs": [],
   "source": [
    "\n",
    "vocab_size = 100000\n",
    "embedding_dim = 100\n",
    "max_length = max_length_texts = int(np.percentile(balanced_df['len_texts'], 80))\n",
    "processor = TweetProcessor(remove_emojis=False, remove_mentions=True)\n",
    "\n",
    "X = balanced_df['tweet'].astype(str).tolist()\n",
    "y = balanced_df['ideology_encoded'].values\n",
    "val_x = df_dev['tweet']\n",
    "val_y = df_dev['ideology_encoded'].values\n",
    "seed = 42\n",
    "\n",
    "vocab = processor.build_vocab(X, vocab_size)                  # processor ya instanciado antes TweetProcessor"
   ]
  },
  {
   "cell_type": "code",
   "execution_count": null,
   "id": "01620cfe",
   "metadata": {},
   "outputs": [],
   "source": [
    "\n",
    "model_id = \"dccuchile/bert-base-spanish-wwm-cased\"  # Modelo en español\n",
    "\n",
    "tokenizer = AutoTokenizer.from_pretrained(model_id)"
   ]
  },
  {
   "cell_type": "code",
   "execution_count": 67,
   "id": "bcfc60a8",
   "metadata": {},
   "outputs": [
    {
     "name": "stdout",
     "output_type": "stream",
     "text": [
      "Tamaño máximo : 128\n"
     ]
    }
   ],
   "source": [
    "\n",
    "# Marcamos el tamaño maximo para truncar los textos\n",
    "\n",
    "MAX_LENGTH = 128\n",
    "\n",
    "print(\"Tamaño máximo :\", MAX_LENGTH)\n"
   ]
  },
  {
   "cell_type": "code",
   "execution_count": 68,
   "id": "1d789098",
   "metadata": {},
   "outputs": [],
   "source": [
    "def tokenize(batch):\n",
    "    return tokenizer(\n",
    "        batch[\"text\"],\n",
    "        padding=\"max_length\",\n",
    "        truncation=True,\n",
    "        max_length=MAX_LENGTH\n",
    "    )"
   ]
  },
  {
   "cell_type": "code",
   "execution_count": null,
   "id": "1292bc36",
   "metadata": {},
   "outputs": [
    {
     "name": "stderr",
     "output_type": "stream",
     "text": [
      "Map: 100%|██████████| 34786/34786 [00:01<00:00, 18028.67 examples/s]\n",
      "Map: 100%|██████████| 4678/4678 [00:00<00:00, 17796.64 examples/s]\n"
     ]
    }
   ],
   "source": [
    "\n",
    "# X,y para train, df_dev para validation\n",
    "\n",
    "train_dataset = Dataset.from_dict({\"text\": X, \"label\": y.tolist()})\n",
    "val_dataset = Dataset.from_dict({\"text\": df_dev['tweet'].tolist(), \"label\": df_dev['ideology_encoded'].tolist()})\n",
    "\n",
    "dataset_dict = DatasetDict({\n",
    "    \"train\": train_dataset,\n",
    "    \"validation\": val_dataset,\n",
    "})\n",
    "\n",
    "encoded_data = dataset_dict.map(tokenize, batched=True) # Al mapear con tokenize, se aplica a cada tweet y se hace el encode\n",
    "encoded_data.set_format(\"torch\") # Nos aseguramos de que el formato sea compatible con PyTorch\n",
    "train_dataset = encoded_data[\"train\"]\n",
    "validation_dataset = encoded_data[\"validation\"]\n"
   ]
  },
  {
   "cell_type": "code",
   "execution_count": null,
   "id": "3b592ced",
   "metadata": {},
   "outputs": [
    {
     "name": "stderr",
     "output_type": "stream",
     "text": [
      "Some weights of BertForSequenceClassification were not initialized from the model checkpoint at dccuchile/bert-base-spanish-wwm-cased and are newly initialized: ['bert.pooler.dense.bias', 'bert.pooler.dense.weight', 'classifier.bias', 'classifier.weight']\n",
      "You should probably TRAIN this model on a down-stream task to be able to use it for predictions and inference.\n"
     ]
    }
   ],
   "source": [
    "\n",
    "model_id = \"dccuchile/bert-base-spanish-wwm-cased\"  # Modelo BERT en español\n",
    "model = AutoModelForSequenceClassification.from_pretrained(model_id, num_labels=4)\n"
   ]
  },
  {
   "cell_type": "code",
   "execution_count": null,
   "id": "ba0598f7",
   "metadata": {},
   "outputs": [],
   "source": [
    "\n",
    "\n",
    "args = TrainingArguments(\n",
    "    output_dir=\"./outputs\",\n",
    "    per_device_train_batch_size=32,\n",
    "    per_device_eval_batch_size=32,\n",
    "    eval_strategy=\"epoch\",\n",
    "    report_to=\"none\"\n",
    ") # Ponemos a punto todos los hiperparametros del modelo"
   ]
  },
  {
   "cell_type": "code",
   "execution_count": null,
   "id": "59cb6023",
   "metadata": {},
   "outputs": [],
   "source": [
    "\n",
    "\n",
    "\n",
    "def compute_metrics(pred):\n",
    "    y_true = pred.label_ids\n",
    "    y_pred = pred.predictions.argmax(-1)\n",
    "\n",
    "    accuracy = accuracy_score(y_true, y_pred)\n",
    "    precision, recall, f1, _ = precision_recall_fscore_support(y_true, y_pred, average='macro')\n",
    "\n",
    "    return {\n",
    "        'accuracy': accuracy,\n",
    "        'f1': f1,\n",
    "        'precision': precision,\n",
    "        'recall': recall\n",
    "    }"
   ]
  },
  {
   "cell_type": "code",
   "execution_count": null,
   "id": "0fd7048c",
   "metadata": {},
   "outputs": [],
   "source": [
    "\n",
    "# Para crear un objeto de tipo Trainer hay que pasar el modelo, los conjuntos de entrenamiento y validación, los argumentos y la función para calcular\n",
    "# las métricas.\n",
    "\n",
    "\n",
    "\n",
    "trainer = Trainer(\n",
    "    model = model,            # modelo que será ajustado\n",
    "    \n",
    "    train_dataset = train_dataset ,  # conjunto training\n",
    "    eval_dataset = validation_dataset,  # conjunto de validación\n",
    "\n",
    "    args = args,     # hiperparámetros\n",
    "    compute_metrics=compute_metrics,    # función para computar las métricas\n",
    ")\n"
   ]
  },
  {
   "cell_type": "code",
   "execution_count": 74,
   "id": "3653bb80",
   "metadata": {},
   "outputs": [
    {
     "data": {
      "text/html": [
       "\n",
       "    <div>\n",
       "      \n",
       "      <progress value='3264' max='3264' style='width:300px; height:20px; vertical-align: middle;'></progress>\n",
       "      [3264/3264 10:22, Epoch 3/3]\n",
       "    </div>\n",
       "    <table border=\"1\" class=\"dataframe\">\n",
       "  <thead>\n",
       " <tr style=\"text-align: left;\">\n",
       "      <th>Epoch</th>\n",
       "      <th>Training Loss</th>\n",
       "      <th>Validation Loss</th>\n",
       "      <th>Accuracy</th>\n",
       "      <th>F1</th>\n",
       "      <th>Precision</th>\n",
       "      <th>Recall</th>\n",
       "    </tr>\n",
       "  </thead>\n",
       "  <tbody>\n",
       "    <tr>\n",
       "      <td>1</td>\n",
       "      <td>0.876100</td>\n",
       "      <td>0.901458</td>\n",
       "      <td>0.623557</td>\n",
       "      <td>0.602570</td>\n",
       "      <td>0.616780</td>\n",
       "      <td>0.597274</td>\n",
       "    </tr>\n",
       "    <tr>\n",
       "      <td>2</td>\n",
       "      <td>0.504100</td>\n",
       "      <td>0.974419</td>\n",
       "      <td>0.649209</td>\n",
       "      <td>0.630284</td>\n",
       "      <td>0.638667</td>\n",
       "      <td>0.628215</td>\n",
       "    </tr>\n",
       "    <tr>\n",
       "      <td>3</td>\n",
       "      <td>0.191500</td>\n",
       "      <td>1.294278</td>\n",
       "      <td>0.650492</td>\n",
       "      <td>0.626609</td>\n",
       "      <td>0.654109</td>\n",
       "      <td>0.615835</td>\n",
       "    </tr>\n",
       "  </tbody>\n",
       "</table><p>"
      ],
      "text/plain": [
       "<IPython.core.display.HTML object>"
      ]
     },
     "metadata": {},
     "output_type": "display_data"
    },
    {
     "data": {
      "text/plain": [
       "TrainOutput(global_step=3264, training_loss=0.5596683726591223, metrics={'train_runtime': 622.9286, 'train_samples_per_second': 167.528, 'train_steps_per_second': 5.24, 'total_flos': 6864559144814592.0, 'train_loss': 0.5596683726591223, 'epoch': 3.0})"
      ]
     },
     "execution_count": 74,
     "metadata": {},
     "output_type": "execute_result"
    }
   ],
   "source": [
    "trainer.train()"
   ]
  },
  {
   "cell_type": "code",
   "execution_count": 75,
   "id": "b2e800a1",
   "metadata": {},
   "outputs": [
    {
     "data": {
      "text/html": [],
      "text/plain": [
       "<IPython.core.display.HTML object>"
      ]
     },
     "metadata": {},
     "output_type": "display_data"
    },
    {
     "data": {
      "text/plain": [
       "{'eval_loss': 1.2942776679992676,\n",
       " 'eval_accuracy': 0.6504916631038905,\n",
       " 'eval_f1': 0.6266091325007075,\n",
       " 'eval_precision': 0.6541088968380766,\n",
       " 'eval_recall': 0.6158348744293473,\n",
       " 'eval_runtime': 8.0453,\n",
       " 'eval_samples_per_second': 581.46,\n",
       " 'eval_steps_per_second': 18.272,\n",
       " 'epoch': 3.0}"
      ]
     },
     "execution_count": 75,
     "metadata": {},
     "output_type": "execute_result"
    }
   ],
   "source": [
    "trainer.evaluate()"
   ]
  },
  {
   "cell_type": "markdown",
   "id": "f80bbf08",
   "metadata": {},
   "source": [
    "# Labels de Test Cleaned"
   ]
  },
  {
   "cell_type": "code",
   "execution_count": null,
   "id": "60db014d",
   "metadata": {},
   "outputs": [],
   "source": [
    "\n",
    "# Cambiar por el directorio usado\n",
    "test_df = pd.read_csv(r\"PracticaPLN\\datasets\\testCleaned.csv\")"
   ]
  },
  {
   "cell_type": "code",
   "execution_count": 80,
   "id": "230c34f2",
   "metadata": {},
   "outputs": [],
   "source": [
    "test_tweets = test_df[\"tweet\"].astype(str).tolist()\n",
    "test_ids = test_df[\"id\"].tolist()"
   ]
  },
  {
   "cell_type": "code",
   "execution_count": 81,
   "id": "abc47b33",
   "metadata": {},
   "outputs": [
    {
     "name": "stderr",
     "output_type": "stream",
     "text": [
      "Map: 100%|██████████| 4678/4678 [00:00<00:00, 17930.93 examples/s]\n"
     ]
    }
   ],
   "source": [
    "test_dataset = Dataset.from_dict({\"text\": test_tweets})\n",
    "test_dataset = test_dataset.map(tokenize, batched=True)\n",
    "test_dataset.set_format(\"torch\")"
   ]
  },
  {
   "cell_type": "code",
   "execution_count": 82,
   "id": "78f16e6d",
   "metadata": {},
   "outputs": [],
   "source": [
    "predictions = trainer.predict(test_dataset)\n",
    "pred_labels = predictions.predictions.argmax(-1)"
   ]
  },
  {
   "cell_type": "code",
   "execution_count": 84,
   "id": "17b24873",
   "metadata": {},
   "outputs": [],
   "source": [
    "output = pd.DataFrame({\"id\": test_ids, \"label\": pred_labels})\n",
    "output.to_csv(\"TestPrediction.csv\", index=False)"
   ]
  }
 ],
 "metadata": {
  "kernelspec": {
   "display_name": "Python 3",
   "language": "python",
   "name": "python3"
  },
  "language_info": {
   "codemirror_mode": {
    "name": "ipython",
    "version": 3
   },
   "file_extension": ".py",
   "mimetype": "text/x-python",
   "name": "python",
   "nbconvert_exporter": "python",
   "pygments_lexer": "ipython3",
   "version": "3.12.1"
  }
 },
 "nbformat": 4,
 "nbformat_minor": 5
}
